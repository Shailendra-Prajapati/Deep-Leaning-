{
  "nbformat": 4,
  "nbformat_minor": 0,
  "metadata": {
    "colab": {
      "name": "Optimizaing_NN.ipynb",
      "provenance": [],
      "collapsed_sections": [],
      "authorship_tag": "ABX9TyNIS8LUlyizaX+eP3Zu29E8"
    },
    "kernelspec": {
      "name": "python3",
      "display_name": "Python 3"
    },
    "language_info": {
      "name": "python"
    }
  },
  "cells": [
    {
      "cell_type": "markdown",
      "source": [
        "# **Optimizing a Neural Netwrok**\n",
        "Optimizing a Neural Network or any modle for that matter is like tuning a radio. The difference is there might be a million knoobs to tune simultaneously.\n"
      ],
      "metadata": {
        "id": "6HUlQJQ7rFQZ"
      }
    },
    {
      "cell_type": "code",
      "execution_count": null,
      "metadata": {
        "colab": {
          "base_uri": "https://localhost:8080/",
          "height": 291
        },
        "id": "lOTkSKqMqyVp",
        "outputId": "653746da-e750-478f-c5a1-0494e2349098"
      },
      "outputs": [
        {
          "output_type": "execute_result",
          "data": {
            "text/plain": [
              "<IPython.core.display.Image object>"
            ],
            "text/html": [
              "<img src=\"https://media3.giphy.com/media/l2Je32EwtM8jUnKk8/giphy.gif\"/>"
            ]
          },
          "metadata": {},
          "execution_count": 2
        }
      ],
      "source": [
        "from IPython.display import Image\n",
        "Image(url=\"https://media3.giphy.com/media/l2Je32EwtM8jUnKk8/giphy.gif\")"
      ]
    },
    {
      "cell_type": "markdown",
      "source": [
        "### Overfitting and Underfitting\n",
        "\n",
        "`Overfitting`:  is a scenario where your model performs well on training data but perform poorly on data not seen during training. This means that our model has memorized the training data instead of learning the raltionship between features and labels.\n",
        "\n",
        "`Underfitting` : It is the opposite counterpart of overfitting wherein our model exhibits high bias. This situation can occur when our model is not sufficiently complex to capture relationship between features and labels.\n",
        "\n",
        "Underfitting is a bit harder to diagnose. If Accuracy and Validation Accuracy are similar but are both poor, then you may be underfitting."
      ],
      "metadata": {
        "id": "5gnw8zryr18N"
      }
    },
    {
      "cell_type": "code",
      "source": [
        ""
      ],
      "metadata": {
        "id": "vz4336Qvr0dy"
      },
      "execution_count": null,
      "outputs": []
    },
    {
      "cell_type": "markdown",
      "source": [
        "## # Strategies to avoid Overfitting/Underfitting\n",
        "\n",
        "Overfitting can be handled by reducing the complexity of our model( i.e. reducing the number of trainable parameters). This is done by:\n",
        "\n",
        "  - Use fewer layes(Shallow Networks), fewer neurons per layer(Narrow Networks)\n",
        "  - Using Dropouts\n",
        "  - Using Regularization\n",
        "  - Early Stopping in some cases.\n",
        "\n",
        "Underfitting can be handled by :\n",
        "  - Increasing the complexity of our model i.e. increasing layerss and number   of  neurons. With more layers, the network can learn more sophisticated relationships and perhaps perform well on difficult real-world tasks.\n"
      ],
      "metadata": {
        "id": "ScmYHHQytVZ_"
      }
    },
    {
      "cell_type": "code",
      "source": [
        ""
      ],
      "metadata": {
        "id": "X7vdqCAMu2ak"
      },
      "execution_count": null,
      "outputs": []
    },
    {
      "cell_type": "markdown",
      "source": [
        "# Using MNSIT Dataset\n",
        "\n",
        "Simple example of how number of layers and number of neurons affect the model."
      ],
      "metadata": {
        "id": "5sAuBvH3y6j0"
      }
    },
    {
      "cell_type": "code",
      "source": [
        "# importing the libraries\n",
        "\n",
        "import numpy as np\n",
        "import pandas as pd\n",
        "import matplotlib.pyplot as plt\n",
        "\n",
        "## To load the graph in notebook only\n",
        "%matplotlib inline \n",
        "\n",
        "import tensorflow as tf\n"
      ],
      "metadata": {
        "id": "hezNWXHXzJkV"
      },
      "execution_count": null,
      "outputs": []
    },
    {
      "cell_type": "code",
      "source": [
        "# Load mnsit dataset from the tensorflow library\n",
        "\n",
        "from tensorflow.keras.datasets import mnist\n",
        "\n",
        "(X_train, y_train), (X_test, y_test) = mnist.load_data()"
      ],
      "metadata": {
        "colab": {
          "base_uri": "https://localhost:8080/"
        },
        "id": "QooREeEO0XMW",
        "outputId": "b34bb25d-e158-40d5-d4b8-e86aed8b7751"
      },
      "execution_count": null,
      "outputs": [
        {
          "output_type": "stream",
          "name": "stdout",
          "text": [
            "Downloading data from https://storage.googleapis.com/tensorflow/tf-keras-datasets/mnist.npz\n",
            "11493376/11490434 [==============================] - 0s 0us/step\n",
            "11501568/11490434 [==============================] - 0s 0us/step\n"
          ]
        }
      ]
    },
    {
      "cell_type": "code",
      "source": [
        "# Let's check the first 5 images and corresponding labels in our training data\n",
        "images = X_train[:5]\n",
        "labels = y_train[:5]\n",
        "\n",
        "for index, image in enumerate(images):\n",
        "  print('Label:', labels[index])\n",
        "  #argmax picks out the label with highest probability\n",
        "  print('Digit in the image', np.argmax(labels[index]))\n",
        "  plt.imshow(image.reshape(28,28), cmap='gray')\n",
        "  plt.show()"
      ],
      "metadata": {
        "colab": {
          "base_uri": "https://localhost:8080/",
          "height": 1000
        },
        "id": "N4fnASai06Ds",
        "outputId": "74d5e125-cb14-4622-98e9-e43f0d7ec47d"
      },
      "execution_count": null,
      "outputs": [
        {
          "output_type": "stream",
          "name": "stdout",
          "text": [
            "Label: 5\n",
            "Digit in the image 0\n"
          ]
        },
        {
          "output_type": "display_data",
          "data": {
            "text/plain": [
              "<Figure size 432x288 with 1 Axes>"
            ],
            "image/png": "[encoded data removed]"
          },
          "metadata": {
            "needs_background": "light"
          }
        },
        {
          "output_type": "stream",
          "name": "stdout",
          "text": [
            "Label: 0\n",
            "Digit in the image 0\n"
          ]
        },
        {
          "output_type": "display_data",
          "data": {
            "text/plain": [
              "<Figure size 432x288 with 1 Axes>"
            ],
            "image/png": "[encoded data removed]"
          },
          "metadata": {
            "needs_background": "light"
          }
        },
        {
          "output_type": "stream",
          "name": "stdout",
          "text": [
            "Label: 4\n",
            "Digit in the image 0\n"
          ]
        },
        {
          "output_type": "display_data",
          "data": {
            "text/plain": [
              "<Figure size 432x288 with 1 Axes>"
            ],
            "image/png": "[encoded data removed]"
          },
          "metadata": {
            "needs_background": "light"
          }
        },
        {
          "output_type": "stream",
          "name": "stdout",
          "text": [
            "Label: 1\n",
            "Digit in the image 0\n"
          ]
        },
        {
          "output_type": "display_data",
          "data": {
            "text/plain": [
              "<Figure size 432x288 with 1 Axes>"
            ],
            "image/png": "[encoded data removed]"
          },
          "metadata": {
            "needs_background": "light"
          }
        },
        {
          "output_type": "stream",
          "name": "stdout",
          "text": [
            "Label: 9\n",
            "Digit in the image 0\n"
          ]
        },
        {
          "output_type": "display_data",
          "data": {
            "text/plain": [
              "<Figure size 432x288 with 1 Axes>"
            ],
            "image/png": "[encoded data removed]"
          },
          "metadata": {
            "needs_background": "light"
          }
        }
      ]
    },
    {
      "cell_type": "code",
      "source": [
        "from tensorflow.keras.models import Sequential\n",
        "from tensorflow.keras.layers import Dense\n",
        "from tensorflow.keras.optimizers import SGD\n",
        "\n",
        "## TensorBoard For Visualization\n",
        "from tensorflow.keras.callbacks import TensorBoard\n",
        "from tensorflow.keras.utils import to_categorical\n",
        "from datetime import datetime\n"
      ],
      "metadata": {
        "id": "OckavVenerC5"
      },
      "execution_count": null,
      "outputs": []
    },
    {
      "cell_type": "markdown",
      "source": [
        "# Why did we reshaped ?\n",
        "\n",
        "As it Flattens images to 1-D vector of 784 features (28*28) i.e., it coverts the 2-D NumPy array of dimension 28*28 to a 1-D array of length 784\n"
      ],
      "metadata": {
        "id": "DUS9nz4Hjp0q"
      }
    },
    {
      "cell_type": "code",
      "source": [
        "## Reshaping of the train and test dataset \n",
        "\n",
        "X_train = X_train.reshape(60000, 784)\n",
        "X_test = X_test.reshape(10000, 784)"
      ],
      "metadata": {
        "id": "trjgzfbVflBb"
      },
      "execution_count": null,
      "outputs": []
    },
    {
      "cell_type": "markdown",
      "source": [
        "# What is the purpose of to_categorical ?\n",
        "\n",
        "converts a class vector(integers) to binary class matrix.\n",
        "\n",
        "`Syntax`: to_categorical(y, num_calsses=NULL, dtype=\"float32\")\n",
        "  - y: class vector to be converted into matrix\n",
        "  - num_classes: Total  number of classes\n",
        "  - dtype: The data type expexted by  the input,as a string."
      ],
      "metadata": {
        "id": "_vbSFMcBkKze"
      }
    },
    {
      "cell_type": "code",
      "source": [
        "# Using to_categorical to converts the vetcor to binary class matrix\n",
        "\n",
        "y_train  = to_categorical(y_train, 10)\n",
        "y_test = to_categorical(y_test, 10)"
      ],
      "metadata": {
        "id": "1RICXGv1kJVF"
      },
      "execution_count": null,
      "outputs": []
    },
    {
      "cell_type": "code",
      "source": [
        ""
      ],
      "metadata": {
        "id": "SlVRt8FPl9Xi"
      },
      "execution_count": null,
      "outputs": []
    },
    {
      "cell_type": "markdown",
      "source": [
        "## `Neural Network with only one input and output layer`"
      ],
      "metadata": {
        "id": "HbIiRQ0AmCVT"
      }
    },
    {
      "cell_type": "code",
      "source": [
        "## Sequential just symbolises\n",
        "\n",
        "model = Sequential()\n",
        "\n",
        "# Input Layer\n",
        "model.add(Dense(50, activation='relu', input_shape=(784,)))\n",
        "model.add(Dense(10, activation='softmax'))\n",
        "model.compile(loss='categorical_crossentropy',\n",
        "              optimizer=SGD(lr=0.001),\n",
        "              metrics=['accuracy'])"
      ],
      "metadata": {
        "colab": {
          "base_uri": "https://localhost:8080/"
        },
        "id": "aAIl0GtImL73",
        "outputId": "5e0efbec-59da-48c8-ac8d-924aed6b3833"
      },
      "execution_count": null,
      "outputs": [
        {
          "output_type": "stream",
          "name": "stderr",
          "text": [
            "/usr/local/lib/python3.7/dist-packages/keras/optimizer_v2/gradient_descent.py:102: UserWarning: The `lr` argument is deprecated, use `learning_rate` instead.\n",
            "  super(SGD, self).__init__(name, **kwargs)\n"
          ]
        }
      ]
    },
    {
      "cell_type": "markdown",
      "source": [
        "We have used softmax as activation function because this is a multiclass classification.\n"
      ],
      "metadata": {
        "id": "ku6V3r5dnuK6"
      }
    },
    {
      "cell_type": "code",
      "source": [
        "# For tensorboard visualization we can check out the following : https://www.youtube.com/watch?v=Uzkhn5ENJzQ&feature=youtu.be\n",
        "\n",
        "logdir = \"logs/\" + datetime.now().strftime(\"%Y%m%d-%H%M%S\")\n",
        "tensorboard_callback = TensorBoard(log_dir = logdir)\n"
      ],
      "metadata": {
        "id": "S71y2c0BnANC"
      },
      "execution_count": null,
      "outputs": []
    },
    {
      "cell_type": "code",
      "source": [
        "training_history = model.fit(\n",
        "    X_train, # input\n",
        "    y_train, # output\n",
        "    batch_size= 32,\n",
        "    verbose=1, # Suppress chatty output; use Tensorboard instead\n",
        "    epochs=10, \n",
        "    validation_data=(X_test,y_test),\n",
        "    callbacks=[tensorboard_callback]\n",
        ")"
      ],
      "metadata": {
        "colab": {
          "base_uri": "https://localhost:8080/"
        },
        "id": "2xlbYfr_pDfz",
        "outputId": "00d3def4-a485-4854-efba-30b10a8ce6a2"
      },
      "execution_count": null,
      "outputs": [
        {
          "output_type": "stream",
          "name": "stdout",
          "text": [
            "Epoch 1/10\n",
            "1875/1875 [==============================] - 5s 2ms/step - loss: 2.0283 - accuracy: 0.5056 - val_loss: 1.1739 - val_accuracy: 0.6138\n",
            "Epoch 2/10\n",
            "1875/1875 [==============================] - 4s 2ms/step - loss: 0.9895 - accuracy: 0.6935 - val_loss: 0.7985 - val_accuracy: 0.8013\n",
            "Epoch 3/10\n",
            "1875/1875 [==============================] - 4s 2ms/step - loss: 0.7143 - accuracy: 0.8028 - val_loss: 0.6424 - val_accuracy: 0.8037\n",
            "Epoch 4/10\n",
            "1875/1875 [==============================] - 4s 2ms/step - loss: 0.5581 - accuracy: 0.8486 - val_loss: 0.5833 - val_accuracy: 0.8547\n",
            "Epoch 5/10\n",
            "1875/1875 [==============================] - 4s 2ms/step - loss: 0.4871 - accuracy: 0.8680 - val_loss: 0.5737 - val_accuracy: 0.8651\n",
            "Epoch 6/10\n",
            "1875/1875 [==============================] - 4s 2ms/step - loss: 0.4433 - accuracy: 0.8823 - val_loss: 0.4568 - val_accuracy: 0.8871\n",
            "Epoch 7/10\n",
            "1875/1875 [==============================] - 4s 2ms/step - loss: 0.4187 - accuracy: 0.8876 - val_loss: 0.4578 - val_accuracy: 0.8915\n",
            "Epoch 8/10\n",
            "1875/1875 [==============================] - 4s 2ms/step - loss: 0.3925 - accuracy: 0.8929 - val_loss: 0.4468 - val_accuracy: 0.8923\n",
            "Epoch 9/10\n",
            "1875/1875 [==============================] - 4s 2ms/step - loss: 0.3748 - accuracy: 0.8979 - val_loss: 0.4739 - val_accuracy: 0.8883\n",
            "Epoch 10/10\n",
            "1875/1875 [==============================] - 4s 2ms/step - loss: 0.3632 - accuracy: 0.9021 - val_loss: 0.4122 - val_accuracy: 0.9060\n"
          ]
        }
      ]
    },
    {
      "cell_type": "markdown",
      "source": [
        "The relative tensorboard graph is below. The maximum accuracy achieved is 0.90. If we train it for longer (for more epochs) maybe the accuracy will increase."
      ],
      "metadata": {
        "id": "e726YAHKrXSQ"
      }
    },
    {
      "cell_type": "markdown",
      "source": [
        "![underfitting_validation.JPG](https://drive.google.com/uc?export=view&id=1N7odof3bwAVOwbbm73_CdKbH3gWMkp4Z)"
      ],
      "metadata": {
        "id": "L9pVKWXVshEG"
      }
    },
    {
      "cell_type": "code",
      "source": [
        ""
      ],
      "metadata": {
        "id": "jsnX92Vrpwsc"
      },
      "execution_count": null,
      "outputs": []
    },
    {
      "cell_type": "markdown",
      "source": [
        "## `Adding many layers to the model`"
      ],
      "metadata": {
        "id": "iulldKYasluZ"
      }
    },
    {
      "cell_type": "code",
      "source": [
        "model2 = Sequential()\n",
        "\n",
        "# 10 Neurons layer\n",
        "model2.add(Dense(10, activation='relu',input_shape=(784,) ))\n",
        "\n",
        "# Many 512 Neuron Layer\n",
        "# Change the number of layers (Increase or Decrease)\n",
        "\n",
        "model2.add(Dense(512, activation='relu'))\n",
        "model2.add(Dense(512, activation='relu'))\n",
        "model2.add(Dense(512, activation='relu'))\n",
        "model2.add(Dense(512, activation='relu'))\n",
        "model2.add(Dense(512, activation='relu'))\n",
        "model2.add(Dense(512, activation='relu'))\n",
        "model2.add(Dense(10, activation='softmax'))\n",
        "model2.compile(loss='categorical_crossentropy', \n",
        "               optimizer=SGD(lr=0.001),\n",
        "               metrics=['accuracy'])\n"
      ],
      "metadata": {
        "colab": {
          "base_uri": "https://localhost:8080/"
        },
        "id": "2kMao0lzsqX-",
        "outputId": "aa4986f6-a530-4ccb-88e9-ffc409b9ff09"
      },
      "execution_count": null,
      "outputs": [
        {
          "output_type": "stream",
          "name": "stderr",
          "text": [
            "/usr/local/lib/python3.7/dist-packages/keras/optimizer_v2/gradient_descent.py:102: UserWarning: The `lr` argument is deprecated, use `learning_rate` instead.\n",
            "  super(SGD, self).__init__(name, **kwargs)\n"
          ]
        }
      ]
    },
    {
      "cell_type": "code",
      "source": [
        "logdir = \"logs/\" + datetime.now().strftime(\"%Y%m%d-%H%M%S\")\n",
        "tensorboard_callback = TensorBoard(log_dir = logdir)"
      ],
      "metadata": {
        "id": "u27BA1U8txUF"
      },
      "execution_count": null,
      "outputs": []
    },
    {
      "cell_type": "code",
      "source": [
        "training_history= model2.fit(\n",
        "    X_train, # input\n",
        "    y_train, # output\n",
        "    batch_size = 32,\n",
        "    verbose=1, # Suppress chatty output; use TensorBoard instead\n",
        "    epochs= 10,\n",
        "    validation_data=(X_test,y_test),\n",
        "    callbacks=[tensorboard_callback] )"
      ],
      "metadata": {
        "colab": {
          "base_uri": "https://localhost:8080/"
        },
        "id": "2RRHwcl8uFfl",
        "outputId": "4e45b2ea-bb93-445e-ece2-567753a23082"
      },
      "execution_count": null,
      "outputs": [
        {
          "output_type": "stream",
          "name": "stdout",
          "text": [
            "Epoch 1/10\n",
            "1875/1875 [==============================] - 35s 19ms/step - loss: 0.6485 - accuracy: 0.7901 - val_loss: 0.3912 - val_accuracy: 0.8720\n",
            "Epoch 2/10\n",
            "1875/1875 [==============================] - 34s 18ms/step - loss: 0.3169 - accuracy: 0.9002 - val_loss: 0.2919 - val_accuracy: 0.9076\n",
            "Epoch 3/10\n",
            "1875/1875 [==============================] - 35s 19ms/step - loss: 0.2479 - accuracy: 0.9223 - val_loss: 0.2443 - val_accuracy: 0.9247\n",
            "Epoch 4/10\n",
            "1875/1875 [==============================] - 38s 20ms/step - loss: 0.2157 - accuracy: 0.9323 - val_loss: 0.2100 - val_accuracy: 0.9369\n",
            "Epoch 5/10\n",
            "1875/1875 [==============================] - 37s 20ms/step - loss: 0.1917 - accuracy: 0.9395 - val_loss: 0.1956 - val_accuracy: 0.9411\n",
            "Epoch 6/10\n",
            "1875/1875 [==============================] - 36s 19ms/step - loss: 0.1749 - accuracy: 0.9447 - val_loss: 0.1885 - val_accuracy: 0.9421\n",
            "Epoch 7/10\n",
            "1875/1875 [==============================] - 38s 20ms/step - loss: 0.1602 - accuracy: 0.9493 - val_loss: 0.1915 - val_accuracy: 0.9408\n",
            "Epoch 8/10\n",
            "1875/1875 [==============================] - 38s 20ms/step - loss: 0.1492 - accuracy: 0.9527 - val_loss: 0.1778 - val_accuracy: 0.9484\n",
            "Epoch 9/10\n",
            "1875/1875 [==============================] - 37s 20ms/step - loss: 0.1378 - accuracy: 0.9558 - val_loss: 0.1763 - val_accuracy: 0.9454\n",
            "Epoch 10/10\n",
            "1875/1875 [==============================] - 37s 20ms/step - loss: 0.1292 - accuracy: 0.9583 - val_loss: 0.1745 - val_accuracy: 0.9460\n"
          ]
        }
      ]
    },
    {
      "cell_type": "markdown",
      "source": [
        "![over_fitting](https://drive.google.com/uc?export=view&id=16YqSkIgM-exFGTX6drUMGjyBNjod7q6f)\n",
        "\n",
        "---"
      ],
      "metadata": {
        "id": "O8ijEj1MNdRz"
      }
    },
    {
      "cell_type": "code",
      "source": [
        ""
      ],
      "metadata": {
        "id": "bYUx9QQLup6D"
      },
      "execution_count": null,
      "outputs": []
    },
    {
      "cell_type": "markdown",
      "source": [
        "`Conclusion`\n",
        "\n",
        "It is clearly visible deep networks have better accuracy and vice versa. Adding more layers increases the accuracy but it might lead to **Overfitting** or **Generalisation Error**."
      ],
      "metadata": {
        "id": "uqRoxQfON315"
      }
    },
    {
      "cell_type": "code",
      "source": [
        ""
      ],
      "metadata": {
        "id": "BtCS1W5jOxAM"
      },
      "execution_count": null,
      "outputs": []
    },
    {
      "cell_type": "markdown",
      "source": [
        "## Early Stopping\n",
        "\n",
        "When training a large network, there will be a point during training when the model will stop generalizing and start learning the statistical noise in the training dataset.\n",
        "\n",
        "This overfitting of the training dataset will result in an increase in generalization error, making the model less useful at making predictions on new data.\n",
        "\n",
        "EarlyStopping basically stops training at the point when performance on a validation dataset starts to degrade. (It would by default need a validation set to be able to work).\n"
      ],
      "metadata": {
        "id": "mZySTXSoO0Rg"
      }
    },
    {
      "cell_type": "markdown",
      "source": [
        "How to get through this:\n",
        "  - Either limit the number of Epoch (not preferred)\n",
        "  - Use EarlyStoppingt Criteria(preferred)"
      ],
      "metadata": {
        "id": "P5_o7HXtPSFS"
      }
    },
    {
      "cell_type": "markdown",
      "source": [
        "\n",
        "```python\n",
        "from tensorflow.keras.callbacks import EarlyStopping\n",
        "es = EarlyStopping(monitor='val_loss', mode='min', verbose=1, patience=50)\n",
        "```\n",
        "`monitor` :  you can choose any metric to monitor like val_loss, val_acc. <br>\n",
        "`mode` :  by default it is auto and knows that you want to minimize loss or maximize accuracy. like *min* in case of val_loss. <br>\n",
        "`patience`: patience is the number to epochs to wait before stopping it. ex -  If we are chasing *val_loss* and we it is not reducing from the last 50 epoch we stop the training if patience is 50.<br>"
      ],
      "metadata": {
        "id": "aCD36X5nPuMs"
      }
    },
    {
      "cell_type": "code",
      "source": [
        "from tensorflow.keras.callbacks import EarlyStopping\n",
        "es = EarlyStopping(monitor='val_cross', mode='min', \n",
        "                   verbose=1, patience=5)"
      ],
      "metadata": {
        "id": "An8bZOMDPQNl"
      },
      "execution_count": null,
      "outputs": []
    },
    {
      "cell_type": "code",
      "source": [
        "model3= Sequential()\n",
        "\n",
        "model3.add(Dense(128, activation='relu', input_shape=(784,)))\n",
        "model3.add(Dense(128, activation='relu'))\n",
        "model3.add(Dense(128, activation='relu'))\n",
        "model3.add(Dense(10, activation='softmax'))\n",
        "\n",
        "model3.compile(loss='categorical_crossentropy', \n",
        "               optimizer=SGD(lr=0.001),metrics=['accuracy'])"
      ],
      "metadata": {
        "colab": {
          "base_uri": "https://localhost:8080/"
        },
        "id": "Tg6peefiQJXO",
        "outputId": "f184eb86-72ff-4d43-a38c-95a5b081d5c5"
      },
      "execution_count": null,
      "outputs": [
        {
          "output_type": "stream",
          "name": "stderr",
          "text": [
            "/usr/local/lib/python3.7/dist-packages/keras/optimizer_v2/gradient_descent.py:102: UserWarning: The `lr` argument is deprecated, use `learning_rate` instead.\n",
            "  super(SGD, self).__init__(name, **kwargs)\n"
          ]
        }
      ]
    },
    {
      "cell_type": "code",
      "source": [
        "logdir = \"logs/\" + datetime.now().strftime(\"%Y%m%d-%H%M%S\")\n",
        "tensorboard_callback = TensorBoard(log_dir=logdir)"
      ],
      "metadata": {
        "id": "Wq3l20bUQ5y4"
      },
      "execution_count": null,
      "outputs": []
    },
    {
      "cell_type": "code",
      "source": [
        "training_history =model3.fit(\n",
        "    X_train, # input\n",
        "    y_train, # output\n",
        "    batch_size = 32,\n",
        "    verbose = 1, # Suppress chatty output; use Tensorboard instead\n",
        "    epochs = 10, \n",
        "    validation_data = (X_test, y_test),\n",
        "    callbacks = [tensorboard_callback,es]\n",
        "\n",
        ")"
      ],
      "metadata": {
        "id": "-989yCsiR-Kb",
        "colab": {
          "base_uri": "https://localhost:8080/"
        },
        "outputId": "d951a417-8b16-4644-ef78-32c3a4fb4332"
      },
      "execution_count": null,
      "outputs": [
        {
          "output_type": "stream",
          "name": "stdout",
          "text": [
            "Epoch 1/10\n",
            "1870/1875 [============================>.] - ETA: 0s - loss: 0.0185 - accuracy: 0.9958WARNING:tensorflow:Early stopping conditioned on metric `val_cross` which is not available. Available metrics are: loss,accuracy,val_loss,val_accuracy\n",
            "1875/1875 [==============================] - 6s 3ms/step - loss: 0.0186 - accuracy: 0.9957 - val_loss: 0.1837 - val_accuracy: 0.9573\n",
            "Epoch 2/10\n",
            "1869/1875 [============================>.] - ETA: 0s - loss: 0.0164 - accuracy: 0.9967WARNING:tensorflow:Early stopping conditioned on metric `val_cross` which is not available. Available metrics are: loss,accuracy,val_loss,val_accuracy\n",
            "1875/1875 [==============================] - 6s 3ms/step - loss: 0.0165 - accuracy: 0.9967 - val_loss: 0.1835 - val_accuracy: 0.9599\n",
            "Epoch 3/10\n",
            "1859/1875 [============================>.] - ETA: 0s - loss: 0.0144 - accuracy: 0.9974WARNING:tensorflow:Early stopping conditioned on metric `val_cross` which is not available. Available metrics are: loss,accuracy,val_loss,val_accuracy\n",
            "1875/1875 [==============================] - 6s 3ms/step - loss: 0.0145 - accuracy: 0.9973 - val_loss: 0.1859 - val_accuracy: 0.9590\n",
            "Epoch 4/10\n",
            "1875/1875 [==============================] - ETA: 0s - loss: 0.0132 - accuracy: 0.9975WARNING:tensorflow:Early stopping conditioned on metric `val_cross` which is not available. Available metrics are: loss,accuracy,val_loss,val_accuracy\n",
            "1875/1875 [==============================] - 6s 3ms/step - loss: 0.0132 - accuracy: 0.9975 - val_loss: 0.1868 - val_accuracy: 0.9593\n",
            "Epoch 5/10\n",
            "1875/1875 [==============================] - ETA: 0s - loss: 0.0119 - accuracy: 0.9979WARNING:tensorflow:Early stopping conditioned on metric `val_cross` which is not available. Available metrics are: loss,accuracy,val_loss,val_accuracy\n",
            "1875/1875 [==============================] - 6s 3ms/step - loss: 0.0119 - accuracy: 0.9979 - val_loss: 0.1839 - val_accuracy: 0.9613\n",
            "Epoch 6/10\n",
            "1871/1875 [============================>.] - ETA: 0s - loss: 0.0108 - accuracy: 0.9983WARNING:tensorflow:Early stopping conditioned on metric `val_cross` which is not available. Available metrics are: loss,accuracy,val_loss,val_accuracy\n",
            "1875/1875 [==============================] - 6s 3ms/step - loss: 0.0108 - accuracy: 0.9983 - val_loss: 0.1878 - val_accuracy: 0.9593\n",
            "Epoch 7/10\n",
            "1868/1875 [============================>.] - ETA: 0s - loss: 0.0095 - accuracy: 0.9987WARNING:tensorflow:Early stopping conditioned on metric `val_cross` which is not available. Available metrics are: loss,accuracy,val_loss,val_accuracy\n",
            "1875/1875 [==============================] - 6s 3ms/step - loss: 0.0095 - accuracy: 0.9987 - val_loss: 0.1879 - val_accuracy: 0.9615\n",
            "Epoch 8/10\n",
            "1859/1875 [============================>.] - ETA: 0s - loss: 0.0085 - accuracy: 0.9988WARNING:tensorflow:Early stopping conditioned on metric `val_cross` which is not available. Available metrics are: loss,accuracy,val_loss,val_accuracy\n",
            "1875/1875 [==============================] - 6s 3ms/step - loss: 0.0087 - accuracy: 0.9988 - val_loss: 0.1888 - val_accuracy: 0.9617\n",
            "Epoch 9/10\n",
            "1864/1875 [============================>.] - ETA: 0s - loss: 0.0080 - accuracy: 0.9989WARNING:tensorflow:Early stopping conditioned on metric `val_cross` which is not available. Available metrics are: loss,accuracy,val_loss,val_accuracy\n",
            "1875/1875 [==============================] - 6s 3ms/step - loss: 0.0080 - accuracy: 0.9989 - val_loss: 0.1907 - val_accuracy: 0.9608\n",
            "Epoch 10/10\n",
            "1871/1875 [============================>.] - ETA: 0s - loss: 0.0073 - accuracy: 0.9992WARNING:tensorflow:Early stopping conditioned on metric `val_cross` which is not available. Available metrics are: loss,accuracy,val_loss,val_accuracy\n",
            "1875/1875 [==============================] - 6s 3ms/step - loss: 0.0073 - accuracy: 0.9992 - val_loss: 0.1931 - val_accuracy: 0.9613\n"
          ]
        }
      ]
    },
    {
      "cell_type": "code",
      "source": [
        ""
      ],
      "metadata": {
        "id": "phnwdk5YTeYF"
      },
      "execution_count": null,
      "outputs": []
    },
    {
      "cell_type": "markdown",
      "source": [
        "### Regularization\n",
        "\n",
        "Regularization is a technique which makes slight modifications to the learning algorithm such that the model generalizes better. This in turn improves the model’s performance on the unseen data as well. \n",
        "\n",
        "By adding more layers to the model (making it more complex) ? Adding more than required layers might also lead to overfitting. \n",
        "\n",
        "Graph below helps to understand what can be the ideal model."
      ],
      "metadata": {
        "id": "9EAfJe75VX_F"
      }
    },
    {
      "cell_type": "markdown",
      "source": [
        "![perfect_point.png](https://drive.google.com/uc?export=view&id=1isDRyvRtMFPhC8RQHL9Puh-OoOm0z9FP)"
      ],
      "metadata": {
        "id": "o-pIty6xVdHq"
      }
    },
    {
      "cell_type": "markdown",
      "source": [
        "Here is how to use it in your neural networks.\n",
        "```python\n",
        "model.add(Dense(256,activation='relu', kernel_regularizer = 'l2'))\n",
        "```"
      ],
      "metadata": {
        "id": "RluLSg6rV07z"
      }
    },
    {
      "cell_type": "markdown",
      "source": [
        "### Dropouts\n",
        "\n",
        "Dropout is a regularization method that approximates training a large number of neural networks with different architectures in parallel. As mentioned, it is preferrably used when training a large neural network. "
      ],
      "metadata": {
        "id": "H5rziqdEV4ji"
      }
    },
    {
      "cell_type": "code",
      "source": [
        "from IPython.display import Image\n",
        "Image(url=\"https://miro.medium.com/max/1200/1*iWQzxhVlvadk6VAJjsgXgg.png\", width=800, height=500)"
      ],
      "metadata": {
        "colab": {
          "base_uri": "https://localhost:8080/",
          "height": 522
        },
        "id": "BqlUTI1eVYw8",
        "outputId": "3e5a09ee-c2e1-47fa-bd80-47f5af5d011f"
      },
      "execution_count": null,
      "outputs": [
        {
          "output_type": "execute_result",
          "data": {
            "text/plain": [
              "<IPython.core.display.Image object>"
            ],
            "text/html": [
              "<img src=\"https://miro.medium.com/max/1200/1*iWQzxhVlvadk6VAJjsgXgg.png\" width=\"800\" height=\"500\"/>"
            ]
          },
          "metadata": {},
          "execution_count": 25
        }
      ]
    },
    {
      "cell_type": "markdown",
      "source": [
        "*By dropping a unit out, we mean temporarily removing it from the network, along with all its incoming and outgoing connections*\n"
      ],
      "metadata": {
        "id": "pZodTjHYWH0T"
      }
    },
    {
      "cell_type": "code",
      "source": [
        "from tensorflow.keras.layers import Dropout\n",
        "from tensorflow.keras import regularizers"
      ],
      "metadata": {
        "id": "s91K3FR6WCa6"
      },
      "execution_count": null,
      "outputs": []
    },
    {
      "cell_type": "code",
      "source": [
        "model4 = Sequential()\n",
        "model4.add(Dense(10, activation='relu', input_shape= (784,) ))\n",
        "model4.add(Dropout(0.2)) ###using dropout\n",
        "model4.add(Dense(256,activation='relu', kernel_regularizer = 'l2'))###using regularizer\n",
        "model4.add(Dropout(0.2))###using dropout\n",
        "model4.add(Dense(256,activation='relu', kernel_regularizer = 'l2')) ###using regularizer\n",
        "model4.add(Dropout(0.2))###using dropout\n",
        "model4.add(Dense(10, activation='softmax'))\n",
        "model4.compile(loss='categorical_crossentropy', optimizer=SGD(lr=0.001), metrics=['accuracy'])"
      ],
      "metadata": {
        "colab": {
          "base_uri": "https://localhost:8080/"
        },
        "id": "Xo-6gpzUWZ_c",
        "outputId": "6cb87d9b-5c8c-4cb0-850c-2d9f8e111267"
      },
      "execution_count": null,
      "outputs": [
        {
          "output_type": "stream",
          "name": "stderr",
          "text": [
            "/usr/local/lib/python3.7/dist-packages/keras/optimizer_v2/gradient_descent.py:102: UserWarning: The `lr` argument is deprecated, use `learning_rate` instead.\n",
            "  super(SGD, self).__init__(name, **kwargs)\n"
          ]
        }
      ]
    },
    {
      "cell_type": "code",
      "source": [
        "logdir = \"logs/\" + datetime.now().strftime(\"%Y%m%d-%H%M%S\")\n",
        "tensorboard_callback = TensorBoard(log_dir=logdir)\n",
        "\n",
        "es = EarlyStopping(monitor='val_loss', mode='min', verbose=1, patience=5)"
      ],
      "metadata": {
        "id": "ILTAUcnMWjls"
      },
      "execution_count": null,
      "outputs": []
    },
    {
      "cell_type": "code",
      "source": [
        "training_history = model.fit(\n",
        "    X_train, # input\n",
        "    y_train, # output\n",
        "    batch_size=32,\n",
        "    verbose=1, # Suppress chatty output; use Tensorboard instead\n",
        "    epochs=10,\n",
        "    validation_data=(X_test, y_test),\n",
        "    callbacks=[tensorboard_callback, es],\n",
        ")"
      ],
      "metadata": {
        "colab": {
          "base_uri": "https://localhost:8080/"
        },
        "id": "sfwwy296Wmz9",
        "outputId": "719cef56-fd19-4fb5-fa94-fc0b1215d739"
      },
      "execution_count": null,
      "outputs": [
        {
          "output_type": "stream",
          "name": "stdout",
          "text": [
            "Epoch 1/10\n",
            "1875/1875 [==============================] - 4s 2ms/step - loss: 0.3468 - accuracy: 0.9067 - val_loss: 0.4167 - val_accuracy: 0.9028\n",
            "Epoch 2/10\n",
            "1875/1875 [==============================] - 4s 2ms/step - loss: 0.3331 - accuracy: 0.9091 - val_loss: 0.3973 - val_accuracy: 0.9056\n",
            "Epoch 3/10\n",
            "1875/1875 [==============================] - 4s 2ms/step - loss: 0.3262 - accuracy: 0.9115 - val_loss: 0.3776 - val_accuracy: 0.9115\n",
            "Epoch 4/10\n",
            "1875/1875 [==============================] - 4s 2ms/step - loss: 0.3131 - accuracy: 0.9147 - val_loss: 0.3547 - val_accuracy: 0.9174\n",
            "Epoch 5/10\n",
            "1875/1875 [==============================] - 4s 2ms/step - loss: 0.3077 - accuracy: 0.9166 - val_loss: 0.3519 - val_accuracy: 0.9173\n",
            "Epoch 6/10\n",
            "1875/1875 [==============================] - 4s 2ms/step - loss: 0.2996 - accuracy: 0.9178 - val_loss: 0.3770 - val_accuracy: 0.9125\n",
            "Epoch 7/10\n",
            "1875/1875 [==============================] - 4s 2ms/step - loss: 0.2935 - accuracy: 0.9198 - val_loss: 0.3715 - val_accuracy: 0.9138\n",
            "Epoch 8/10\n",
            "1875/1875 [==============================] - 4s 2ms/step - loss: 0.2859 - accuracy: 0.9209 - val_loss: 0.3359 - val_accuracy: 0.9226\n",
            "Epoch 9/10\n",
            "1875/1875 [==============================] - 5s 3ms/step - loss: 0.2812 - accuracy: 0.9231 - val_loss: 0.3484 - val_accuracy: 0.9132\n",
            "Epoch 10/10\n",
            "1875/1875 [==============================] - 5s 2ms/step - loss: 0.2755 - accuracy: 0.9245 - val_loss: 0.3257 - val_accuracy: 0.9233\n"
          ]
        }
      ]
    },
    {
      "cell_type": "code",
      "source": [
        ""
      ],
      "metadata": {
        "id": "cNHJbXxRWqQ7"
      },
      "execution_count": null,
      "outputs": []
    },
    {
      "cell_type": "markdown",
      "source": [
        "#### Why not just use early stopping rather than regularisation ?\n",
        "\n",
        "The main downside of early stopping is that this couples two tasks:\n",
        "\n",
        "1. Algorithm to optimize the cost function j (eg gradient descent, adam etc)\n",
        "2. Prevent overfitting (ie get more data, regularization)\n",
        "\n",
        "because by stopping gradient decent early, we are sort of breaking whatever we are doing to optimize cost function J and simultaneously trying to not over fit."
      ],
      "metadata": {
        "id": "_5DN5rOEWydD"
      }
    },
    {
      "cell_type": "code",
      "source": [
        ""
      ],
      "metadata": {
        "id": "Ou21a04EWzDt"
      },
      "execution_count": null,
      "outputs": []
    },
    {
      "cell_type": "markdown",
      "source": [
        "**Points to conclude with**\n",
        "\n",
        "- Large weights in a neural network are a sign of a more complex network that has overfit the training data.\n",
        "- Probabilistically dropping out nodes in the network is a simple and effective regularization method.\n",
        "- A large network with more training and the use of a weight constraint are suggested when using dropout."
      ],
      "metadata": {
        "id": "m7gBXZHKW2jK"
      }
    },
    {
      "cell_type": "code",
      "source": [
        ""
      ],
      "metadata": {
        "id": "qjWSfDfwW3OM"
      },
      "execution_count": null,
      "outputs": []
    }
  ]
}