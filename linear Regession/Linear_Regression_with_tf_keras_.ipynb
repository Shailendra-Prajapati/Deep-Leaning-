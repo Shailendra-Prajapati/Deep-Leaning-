{
  "nbformat": 4,
  "nbformat_minor": 0,
  "metadata": {
    "colab": {
      "name": "Linear_Regression with tf.keras .ipynb",
      "provenance": [],
      "collapsed_sections": []
    },
    "kernelspec": {
      "name": "python3",
      "display_name": "Python 3"
    }
  },
  "cells": [
    {
      "cell_type": "markdown",
      "metadata": {
        "id": "tmHsf5DWsxr6"
      },
      "source": [
        "# Agenda\n",
        "1. About the Dataset\n",
        "2. Objective\n",
        "3. Loading Libraries\n",
        "4. Loading Data\n",
        "5. View Data\n",
        "6. Separate Input Features and Output Features\n",
        "7. Split The Data into Train and Test Set\n",
        "8. Train the model (The five step model life cycle)\n",
        "  1. Define the model.\n",
        "  2. Compile the model.\n",
        "  3. Fit the model.\n",
        "  4. Evaluate the model\n",
        "    * Hyperparameter Tunning\n",
        "  5. Prediction"
      ]
    },
    {
      "cell_type": "markdown",
      "metadata": {
        "id": "NmP7x85xcxkS"
      },
      "source": [
        "## About the Dataset\n",
        "We will be working on a data set that comes from the real estate industry in Boston (US). This database contains 14 attributes. The target variable refers to the median value of owner-occupied homes in 1000 USD's.\n",
        "\n",
        "* CRIM: per capita crime rate by town\n",
        "* ZN: proportion of residential land zoned for lots over 25,000 sq.ft.\n",
        "* INDUS: proportion of non-retail business acres per town\n",
        "* CHAS: Charles River dummy variable (= 1 if tract bounds river; 0 otherwise)\n",
        "* NOX: nitric oxides concentration (parts per 10 million)\n",
        "* RM: average number of rooms per dwelling\n",
        "* AGE: proportion of owner-occupied units built prior to 1940\n",
        "* DIS: weighted distances to five Boston employment centres\n",
        "* RAD: index of accessibility to radial highways\n",
        "* TAX: full-value property-tax rate per 10,000 USD\n",
        "* PTRATIO: pupil-teacher ratio by town\n",
        "* B: 1000(Bk - 0.63)^2 where Bk is the proportion of blacks by town\n",
        "* LSTAT: lower status of the population (%)\n",
        "* MEDV: Median value of owner-occupied homes in 1000 USD's (Target)\n"
      ]
    },
    {
      "cell_type": "markdown",
      "metadata": {
        "id": "w_c7y3fqWuDX"
      },
      "source": [
        "## Objective\n",
        "The objective is to use linear regression to find the median value of owner-occupied homes in 1000 USD's.\n",
        "\n",
        "We will build a Machine learning model (i.e. Linear Regression) using `tensorflow.keras` (in short `tf.keras`) API."
      ]
    },
    {
      "cell_type": "markdown",
      "metadata": {
        "id": "hvnf8jDeTTvw"
      },
      "source": [
        "You already have all the information about Tensorflow and Keras from earlier modules."
      ]
    },
    {
      "cell_type": "markdown",
      "metadata": {
        "id": "PQeegjzCbXdf"
      },
      "source": [
        "## Loading Libraries\n",
        "All Python capabilities are not loaded to our working environment by default (even they are already installed in your system). So, we import each and every library that we want to use.\n",
        "\n",
        "In data science, numpy and pandas are most commonly used libraries. Numpy is required for calculations like means, medians, square roots, etc. Pandas is used for data processing and data frames. Matplotlib is used for data visualization. We chose alias names for our libraries for the sake of our convenience (numpy --> np and pandas --> pd, matplotlib.pyplot as plt).\n",
        "\n",
        "**pyplot:** pyplot is matplotlib's plotting framework. It is the most used module of matplotlib."
      ]
    },
    {
      "cell_type": "code",
      "metadata": {
        "id": "UEWLuXd7BMrU"
      },
      "source": [
        "# importing packages\n",
        "import numpy as np # to perform calculations \n",
        "import pandas as pd # to read data\n",
        "import matplotlib.pyplot as plt # to visualise"
      ],
      "execution_count": null,
      "outputs": []
    },
    {
      "cell_type": "markdown",
      "metadata": {
        "id": "fY_eewx0dhHt"
      },
      "source": [
        "## Loading Data\n",
        "Pandas module is used for reading files. We have our data in '.csv' format. We will use 'read_csv()' function for loading the data."
      ]
    },
    {
      "cell_type": "code",
      "metadata": {
        "id": "7zlSaTd2W9rt"
      },
      "source": [
        "# In read_csv() function, we have passed the location to where the file is located at dphi official github page\n",
        "boston_data = pd.read_csv(\"Training_set_boston.csv\" )"
      ],
      "execution_count": null,
      "outputs": []
    },
    {
      "cell_type": "markdown",
      "metadata": {
        "id": "wze8jmpKtBG4"
      },
      "source": [
        "## View Data"
      ]
    },
    {
      "cell_type": "code",
      "metadata": {
        "id": "Nwj5kkDjjQkx",
        "colab": {
          "base_uri": "https://localhost:8080/",
          "height": 206
        },
        "outputId": "49d371ff-e6a0-4794-ff57-7c8c04018c72"
      },
      "source": [
        "boston_data.head()"
      ],
      "execution_count": null,
      "outputs": [
        {
          "output_type": "execute_result",
          "data": {
            "text/plain": [
              "       CRIM    ZN  INDUS  CHAS     NOX     RM   AGE     DIS   RAD    TAX  \\\n",
              "0  15.02340   0.0  18.10   0.0  0.6140  5.304  97.3  2.1007  24.0  666.0   \n",
              "1   0.62739   0.0   8.14   0.0  0.5380  5.834  56.5  4.4986   4.0  307.0   \n",
              "2   0.03466  35.0   6.06   0.0  0.4379  6.031  23.3  6.6407   1.0  304.0   \n",
              "3   7.05042   0.0  18.10   0.0  0.6140  6.103  85.1  2.0218  24.0  666.0   \n",
              "4   0.72580   0.0   8.14   0.0  0.5380  5.727  69.5  3.7965   4.0  307.0   \n",
              "\n",
              "   PTRATIO       B  LSTAT  MEDV  \n",
              "0     20.2  349.48  24.91  12.0  \n",
              "1     21.0  395.62   8.47  19.9  \n",
              "2     16.9  362.25   7.83  19.4  \n",
              "3     20.2    2.52  23.29  13.4  \n",
              "4     21.0  390.95  11.28  18.2  "
            ],
            "text/html": [
              "\n",
              "  <div id=\"df-eff39320-c7af-4b8c-a00d-163bb061879a\">\n",
              "    <div class=\"colab-df-container\">\n",
              "      <div>\n",
              "<style scoped>\n",
              "    .dataframe tbody tr th:only-of-type {\n",
              "        vertical-align: middle;\n",
              "    }\n",
              "\n",
              "    .dataframe tbody tr th {\n",
              "        vertical-align: top;\n",
              "    }\n",
              "\n",
              "    .dataframe thead th {\n",
              "        text-align: right;\n",
              "    }\n",
              "</style>\n",
              "<table border=\"1\" class=\"dataframe\">\n",
              "  <thead>\n",
              "    <tr style=\"text-align: right;\">\n",
              "      <th></th>\n",
              "      <th>CRIM</th>\n",
              "      <th>ZN</th>\n",
              "      <th>INDUS</th>\n",
              "      <th>CHAS</th>\n",
              "      <th>NOX</th>\n",
              "      <th>RM</th>\n",
              "      <th>AGE</th>\n",
              "      <th>DIS</th>\n",
              "      <th>RAD</th>\n",
              "      <th>TAX</th>\n",
              "      <th>PTRATIO</th>\n",
              "      <th>B</th>\n",
              "      <th>LSTAT</th>\n",
              "      <th>MEDV</th>\n",
              "    </tr>\n",
              "  </thead>\n",
              "  <tbody>\n",
              "    <tr>\n",
              "      <th>0</th>\n",
              "      <td>15.02340</td>\n",
              "      <td>0.0</td>\n",
              "      <td>18.10</td>\n",
              "      <td>0.0</td>\n",
              "      <td>0.6140</td>\n",
              "      <td>5.304</td>\n",
              "      <td>97.3</td>\n",
              "      <td>2.1007</td>\n",
              "      <td>24.0</td>\n",
              "      <td>666.0</td>\n",
              "      <td>20.2</td>\n",
              "      <td>349.48</td>\n",
              "      <td>24.91</td>\n",
              "      <td>12.0</td>\n",
              "    </tr>\n",
              "    <tr>\n",
              "      <th>1</th>\n",
              "      <td>0.62739</td>\n",
              "      <td>0.0</td>\n",
              "      <td>8.14</td>\n",
              "      <td>0.0</td>\n",
              "      <td>0.5380</td>\n",
              "      <td>5.834</td>\n",
              "      <td>56.5</td>\n",
              "      <td>4.4986</td>\n",
              "      <td>4.0</td>\n",
              "      <td>307.0</td>\n",
              "      <td>21.0</td>\n",
              "      <td>395.62</td>\n",
              "      <td>8.47</td>\n",
              "      <td>19.9</td>\n",
              "    </tr>\n",
              "    <tr>\n",
              "      <th>2</th>\n",
              "      <td>0.03466</td>\n",
              "      <td>35.0</td>\n",
              "      <td>6.06</td>\n",
              "      <td>0.0</td>\n",
              "      <td>0.4379</td>\n",
              "      <td>6.031</td>\n",
              "      <td>23.3</td>\n",
              "      <td>6.6407</td>\n",
              "      <td>1.0</td>\n",
              "      <td>304.0</td>\n",
              "      <td>16.9</td>\n",
              "      <td>362.25</td>\n",
              "      <td>7.83</td>\n",
              "      <td>19.4</td>\n",
              "    </tr>\n",
              "    <tr>\n",
              "      <th>3</th>\n",
              "      <td>7.05042</td>\n",
              "      <td>0.0</td>\n",
              "      <td>18.10</td>\n",
              "      <td>0.0</td>\n",
              "      <td>0.6140</td>\n",
              "      <td>6.103</td>\n",
              "      <td>85.1</td>\n",
              "      <td>2.0218</td>\n",
              "      <td>24.0</td>\n",
              "      <td>666.0</td>\n",
              "      <td>20.2</td>\n",
              "      <td>2.52</td>\n",
              "      <td>23.29</td>\n",
              "      <td>13.4</td>\n",
              "    </tr>\n",
              "    <tr>\n",
              "      <th>4</th>\n",
              "      <td>0.72580</td>\n",
              "      <td>0.0</td>\n",
              "      <td>8.14</td>\n",
              "      <td>0.0</td>\n",
              "      <td>0.5380</td>\n",
              "      <td>5.727</td>\n",
              "      <td>69.5</td>\n",
              "      <td>3.7965</td>\n",
              "      <td>4.0</td>\n",
              "      <td>307.0</td>\n",
              "      <td>21.0</td>\n",
              "      <td>390.95</td>\n",
              "      <td>11.28</td>\n",
              "      <td>18.2</td>\n",
              "    </tr>\n",
              "  </tbody>\n",
              "</table>\n",
              "</div>\n",
              "      <button class=\"colab-df-convert\" onclick=\"convertToInteractive('df-eff39320-c7af-4b8c-a00d-163bb061879a')\"\n",
              "              title=\"Convert this dataframe to an interactive table.\"\n",
              "              style=\"display:none;\">\n",
              "        \n",
              "  <svg xmlns=\"http://www.w3.org/2000/svg\" height=\"24px\"viewBox=\"0 0 24 24\"\n",
              "       width=\"24px\">\n",
              "    <path d=\"M0 0h24v24H0V0z\" fill=\"none\"/>\n",
              "    <path d=\"M18.56 5.44l.94 2.06.94-2.06 2.06-.94-2.06-.94-.94-2.06-.94 2.06-2.06.94zm-11 1L8.5 8.5l.94-2.06 2.06-.94-2.06-.94L8.5 2.5l-.94 2.06-2.06.94zm10 10l.94 2.06.94-2.06 2.06-.94-2.06-.94-.94-2.06-.94 2.06-2.06.94z\"/><path d=\"M17.41 7.96l-1.37-1.37c-.4-.4-.92-.59-1.43-.59-.52 0-1.04.2-1.43.59L10.3 9.45l-7.72 7.72c-.78.78-.78 2.05 0 2.83L4 21.41c.39.39.9.59 1.41.59.51 0 1.02-.2 1.41-.59l7.78-7.78 2.81-2.81c.8-.78.8-2.07 0-2.86zM5.41 20L4 18.59l7.72-7.72 1.47 1.35L5.41 20z\"/>\n",
              "  </svg>\n",
              "      </button>\n",
              "      \n",
              "  <style>\n",
              "    .colab-df-container {\n",
              "      display:flex;\n",
              "      flex-wrap:wrap;\n",
              "      gap: 12px;\n",
              "    }\n",
              "\n",
              "    .colab-df-convert {\n",
              "      background-color: #E8F0FE;\n",
              "      border: none;\n",
              "      border-radius: 50%;\n",
              "      cursor: pointer;\n",
              "      display: none;\n",
              "      fill: #1967D2;\n",
              "      height: 32px;\n",
              "      padding: 0 0 0 0;\n",
              "      width: 32px;\n",
              "    }\n",
              "\n",
              "    .colab-df-convert:hover {\n",
              "      background-color: #E2EBFA;\n",
              "      box-shadow: 0px 1px 2px rgba(60, 64, 67, 0.3), 0px 1px 3px 1px rgba(60, 64, 67, 0.15);\n",
              "      fill: #174EA6;\n",
              "    }\n",
              "\n",
              "    [theme=dark] .colab-df-convert {\n",
              "      background-color: #3B4455;\n",
              "      fill: #D2E3FC;\n",
              "    }\n",
              "\n",
              "    [theme=dark] .colab-df-convert:hover {\n",
              "      background-color: #434B5C;\n",
              "      box-shadow: 0px 1px 3px 1px rgba(0, 0, 0, 0.15);\n",
              "      filter: drop-shadow(0px 1px 2px rgba(0, 0, 0, 0.3));\n",
              "      fill: #FFFFFF;\n",
              "    }\n",
              "  </style>\n",
              "\n",
              "      <script>\n",
              "        const buttonEl =\n",
              "          document.querySelector('#df-eff39320-c7af-4b8c-a00d-163bb061879a button.colab-df-convert');\n",
              "        buttonEl.style.display =\n",
              "          google.colab.kernel.accessAllowed ? 'block' : 'none';\n",
              "\n",
              "        async function convertToInteractive(key) {\n",
              "          const element = document.querySelector('#df-eff39320-c7af-4b8c-a00d-163bb061879a');\n",
              "          const dataTable =\n",
              "            await google.colab.kernel.invokeFunction('convertToInteractive',\n",
              "                                                     [key], {});\n",
              "          if (!dataTable) return;\n",
              "\n",
              "          const docLinkHtml = 'Like what you see? Visit the ' +\n",
              "            '<a target=\"_blank\" href=https://colab.research.google.com/notebooks/data_table.ipynb>data table notebook</a>'\n",
              "            + ' to learn more about interactive tables.';\n",
              "          element.innerHTML = '';\n",
              "          dataTable['output_type'] = 'display_data';\n",
              "          await google.colab.output.renderOutput(dataTable, element);\n",
              "          const docLink = document.createElement('div');\n",
              "          docLink.innerHTML = docLinkHtml;\n",
              "          element.appendChild(docLink);\n",
              "        }\n",
              "      </script>\n",
              "    </div>\n",
              "  </div>\n",
              "  "
            ]
          },
          "metadata": {},
          "execution_count": 3
        }
      ]
    },
    {
      "cell_type": "markdown",
      "metadata": {
        "id": "DBv1fy29jAzm"
      },
      "source": [
        "# Separating Input Features and Output Features\n",
        "Before building any machine learning model, we always separate the input variables and output variables. Input variables are those quantities whose values are changed naturally in an experiment, whereas output variable is the one whose values are dependent on the input variables. So, input variables are also known as independent variables as its values are not dependent on any other quantity, and output variable/s are also known as dependent variables as its values are dependent on other variable i.e. input variables. Like here in this data, we are trying to predict the price of a houce, so this is our target column i.e. 'MEDV'\n",
        "\n",
        "By convention input variables are represented with 'X' and output variables are represented with 'y'."
      ]
    },
    {
      "cell_type": "code",
      "metadata": {
        "id": "ErMptop0jyng"
      },
      "source": [
        "X = boston_data.drop('MEDV', axis = 1)    # Input Variables/features\n",
        "y = boston_data.MEDV      # output variables/features"
      ],
      "execution_count": null,
      "outputs": []
    },
    {
      "cell_type": "markdown",
      "metadata": {
        "id": "QgXPagiS3YKz"
      },
      "source": [
        "# Splitting the data"
      ]
    },
    {
      "cell_type": "markdown",
      "metadata": {
        "id": "4vOkLlB-Ukjn"
      },
      "source": [
        "We want to check the performance of the model that we built. For this purpose, we always split (both input and output data) the given data into training set which will be used to train the model, and test set which will be used to check how accurately the model is predicting outcomes.\n",
        "\n",
        "For this purpose we have a class called 'train_test_split' in the 'sklearn.model_selection' module.\n",
        "\n",
        "We split 80% of the data to the training set while 20% of the data to test set using below code.\n",
        "The test_size variable is where we actually specify the proportion of the test set.\n",
        "\n",
        "By passing our X and y variables into the train_test_split method, we are able to capture the splits in data by assigning 4 variables to the result."
      ]
    },
    {
      "cell_type": "code",
      "metadata": {
        "id": "1a1OFJmpUl2u"
      },
      "source": [
        "# import train_test_split\n",
        "from sklearn.model_selection import train_test_split \n",
        "\n",
        "# Assign variables to capture train test split output\n",
        "X_train, X_test, y_train, y_test = train_test_split(X, y, test_size=0.2, random_state=42)\n",
        "\n",
        "# X_train: independent/input feature data for training the model\n",
        "# y_train: dependent/output feature data for training the model\n",
        "# X_test: independent/input feature data for testing the model; will be used to predict the output values\n",
        "# y_test: original dependent/output values of X_test; We will compare this values with our predicted values to check the performance of our built model.\n",
        " \n",
        "# test_size = 0.20: 20% of the data will go for test set and 70% of the data will go for train set\n",
        "# random_state = 42: this will fix the split i.e. there will be same split for each time you run the code"
      ],
      "execution_count": null,
      "outputs": []
    },
    {
      "cell_type": "code",
      "metadata": {
        "id": "UfKNjpJqkPUf",
        "colab": {
          "base_uri": "https://localhost:8080/"
        },
        "outputId": "d15cb216-ec94-4594-e13d-a9a574372966"
      },
      "source": [
        "# find the number of input features\n",
        "n_features = X.shape[1]\n",
        "print(n_features)"
      ],
      "execution_count": null,
      "outputs": [
        {
          "output_type": "stream",
          "name": "stdout",
          "text": [
            "13\n"
          ]
        }
      ]
    },
    {
      "cell_type": "markdown",
      "metadata": {
        "id": "CwotIN0AU3Ci"
      },
      "source": [
        "# Training our model\n"
      ]
    },
    {
      "cell_type": "markdown",
      "metadata": {
        "id": "5EV_0iiBMBz6"
      },
      "source": [
        "After splitting the data into training and testing sets, it's time to train our first deep learning model. Wait! Before training the deep learning model, let's understand the **Deep Learning Model Life-Cycle**."
      ]
    },
    {
      "cell_type": "markdown",
      "metadata": {
        "id": "j3XXW9NL6H4s"
      },
      "source": [
        "## Neural Network: Architecture\n",
        "Here we are giving you just an overview of the architecture of Neural Network. You will know more about it in next module.\n",
        "\n",
        "Neural Networks consists of an input and output layer with one or more hidden layers.\n",
        "\n",
        "![neural network architecture](https://dphi-courses.s3.ap-south-1.amazonaws.com/Deep+Learning+Bootcamp/nn+arch.png)"
      ]
    },
    {
      "cell_type": "markdown",
      "metadata": {
        "id": "Ymbh14OgMu2Z"
      },
      "source": [
        "## The 5 Step Model Life-Cycle\n",
        "\n",
        "A model has a life-cycle, and this very simple knowledge provides the backbone for both modeling a dataset and understanding the tf.keras API.\n",
        "\n",
        "The five steps in the life-cycle are as follows:\n",
        "\n",
        "1. Define the model.\n",
        "2. Compile the model.\n",
        "3. Fit the model.\n",
        "4. Make predictions on the test data.\n",
        "5. Evaluate the model.\n",
        "\n",
        "We will take closer look into each of the steps and parallely build the deep learning model."
      ]
    },
    {
      "cell_type": "markdown",
      "metadata": {
        "id": "auQ5lPFrN7GN"
      },
      "source": [
        "### 1. Define the model\n",
        "Defining the model requires that you first select the type of model that you need and then choose the architecture or network topology.\n",
        "\n",
        "From an API perspective, this involves defining the layers of the model, configuring each layer with a number of nodes and activation function, and connecting the layers together into a cohesive model.\n",
        "\n",
        "Models can be defined either with the Sequential API or the Functional API (you will know this in later modules). Here we will define the model with Sequential API. Now **what is Sequential API?**\n",
        "\n",
        "**Sequential API**\n",
        "The sequential API is the simplest API to get started with Deep Learning. \n",
        "\n",
        "It is referred to as “sequential” because it involves defining a Sequential class and adding layers to the model one by one in a linear manner, from input to output.\n",
        "\n",
        "The example below defines a Sequential MLP model that accepts one input (i.e. 'YearsExperience'), has one hidden layer with 1 node and then an output layer with one node to predict a numerical value.\n",
        "\n"
      ]
    },
    {
      "cell_type": "code",
      "metadata": {
        "id": "JY303RWVPzkD"
      },
      "source": [
        "from tensorflow.keras import Sequential    # import Sequential from tensorflow.keras\n",
        "from tensorflow.keras.layers import Dense  # import Dense from tensorflow.keras.layers\n",
        "from numpy.random import seed     # seed helps you to fix the randomness in the neural network.  \n",
        "import tensorflow"
      ],
      "execution_count": null,
      "outputs": []
    },
    {
      "cell_type": "code",
      "metadata": {
        "id": "mMDrQE9gQP6U"
      },
      "source": [
        "# define the model\n",
        "model = Sequential()\n",
        "model.add(Dense(10, activation='relu', input_shape=(n_features,)))\n",
        "model.add(Dense(8, activation='relu'))\n",
        "model.add(Dense(1))"
      ],
      "execution_count": null,
      "outputs": []
    },
    {
      "cell_type": "markdown",
      "metadata": {
        "id": "93ntHsm1QnLP"
      },
      "source": [
        "Note that the visible layer of the network is defined by the “input_shape” argument on the first hidden layer. That means in the above example, the model expects the input for one sample to be a vector of n_features (i.e. 13) number . \n",
        "\n",
        "The sequential API is easy to use because you keep calling model.add() until you have added all of your layers."
      ]
    },
    {
      "cell_type": "markdown",
      "metadata": {
        "id": "ABBhVYtXRlJq"
      },
      "source": [
        "The activation function we have chosen is **ReLU**, which stands for **rectified linear unit**. Activation function decides, whether a neuron should be activated or not\n",
        "\n",
        "ReLU is defined mathematically as **F(x) = max(0,x)**. In other words, the output is x, if x is greater than 0, and the output is 0 if x is 0 or negative."
      ]
    },
    {
      "cell_type": "markdown",
      "metadata": {
        "id": "D100gBMQSTn8"
      },
      "source": [
        "### 2. Compile the model\n",
        "Compiling the model requires that you first select a loss function that you want to optimize, such as mean squared error or cross-entropy.\n",
        "\n",
        "It also requires that you select an algorithm to perform the optimization procedure. We’re using **RMSprop** as our optimizer here. RMSprop stands for **Root Mean Square Propagation**. It’s one of the most popular gradient descent optimization algorithms for deep learning networks. RMSprop is an optimizer that’s reliable and fast. \n",
        "\n",
        "**Note:** For the time being understand gradient descent as just an optimization algorithm. You will know more about it in the next module.\n",
        "\n",
        "It may also require that you select any performance metrics to keep track of during the model training process. The loss function used here is **mean squared error.** (don't worry if you don't know about the loss function mean squared error, for the time being just know it's a function that helps you know the error or loss your model is giving. You will learn more about loss functions in the coming modules)\n",
        "\n",
        "From an API perspective, this involves calling a function to compile the model with the chosen configuration, which will prepare the appropriate data structures required for the efficient use of the model you have defined."
      ]
    },
    {
      "cell_type": "code",
      "metadata": {
        "id": "doYNy1jJQa7J"
      },
      "source": [
        "# import RMSprop optimizer\n",
        "from tensorflow.keras.optimizers import RMSprop\n",
        "optimizer = RMSprop(0.01)    # 0.01 is the learning rate"
      ],
      "execution_count": null,
      "outputs": []
    },
    {
      "cell_type": "markdown",
      "metadata": {
        "id": "AiOzHe6K8iaM"
      },
      "source": [
        "**Why learning rate = 0.01?**\n",
        "\n",
        "It is important to find a good value for the learning rate for your model on your training dataset. we cannot analytically calculate the optimal learning rate for a given model on a given dataset. Instead, a good (or good enough) learning rate must be discovered via trial and error.\n",
        "\n",
        "The range of values to consider for the learning rate is less than 1.0 and greater than $10^{-6}$.\n",
        "\n",
        "A traditional default value for the learning rate is 0.1 or 0.01, and this may represent a good starting point on your problem."
      ]
    },
    {
      "cell_type": "code",
      "metadata": {
        "id": "gNxnRf2uUqev"
      },
      "source": [
        "model.compile(loss='mean_squared_error',optimizer=optimizer)    # compile the model"
      ],
      "execution_count": null,
      "outputs": []
    },
    {
      "cell_type": "markdown",
      "metadata": {
        "id": "GQPPF22pVHMU"
      },
      "source": [
        "### 3. Fitting the model\n",
        "Fitting the model requires that you first select the training configuration, such as the number of epochs (loops through the training dataset) and the batch size (number of samples in an epoch used to estimate model error).\n",
        "\n",
        "Training applies the chosen optimization algorithm to minimize the chosen loss function and updates the model using the backpropagation (don't worry if you don't know this term, you will know it in the next module) of error algorithm.\n",
        "\n",
        "Fitting the model is the slow part of the whole process and can take seconds to hours to days, depending on the complexity of the model, the hardware you’re using, and the size of the training dataset.\n",
        "\n",
        "From an API perspective, this involves calling a function to perform the training process. This function will block (not return) until the training process has finished.\n",
        "\n",
        "While fitting the model, a progress bar will summarize the status of each epoch and the overall training process."
      ]
    },
    {
      "cell_type": "code",
      "metadata": {
        "id": "WnG7pev1UxNs",
        "colab": {
          "base_uri": "https://localhost:8080/"
        },
        "outputId": "f8d73053-db6d-481a-f4c2-c688b195a01e"
      },
      "source": [
        "seed_value = 42\n",
        "seed(seed_value)        # If you build the model with given parameters, set_random_seed will help you produce the same result on multiple execution\n",
        "\n",
        "\n",
        "# Recommended by Keras -------------------------------------------------------------------------------------\n",
        "# 1. Set `PYTHONHASHSEED` environment variable at a fixed value\n",
        "import os\n",
        "os.environ['PYTHONHASHSEED']=str(seed_value)\n",
        "\n",
        "# 2. Set `python` built-in pseudo-random generator at a fixed value\n",
        "import random\n",
        "random.seed(seed_value)\n",
        "\n",
        "# 3. Set `numpy` pseudo-random generator at a fixed value\n",
        "import numpy as np\n",
        "np.random.seed(seed_value)\n",
        "# Recommended by Keras -------------------------------------------------------------------------------------\n",
        "\n",
        "\n",
        "# 4. Set the `tensorflow` pseudo-random generator at a fixed value\n",
        "tensorflow.random.set_seed(seed_value) \n",
        "model.fit(X_train, y_train, epochs=10, batch_size=30, verbose = 1)"
      ],
      "execution_count": null,
      "outputs": [
        {
          "output_type": "stream",
          "name": "stdout",
          "text": [
            "Epoch 1/10\n",
            "11/11 [==============================] - 1s 1ms/step - loss: 1408.0851\n",
            "Epoch 2/10\n",
            "11/11 [==============================] - 0s 1ms/step - loss: 194.8851\n",
            "Epoch 3/10\n",
            "11/11 [==============================] - 0s 1ms/step - loss: 263.7602\n",
            "Epoch 4/10\n",
            "11/11 [==============================] - 0s 1ms/step - loss: 270.0478\n",
            "Epoch 5/10\n",
            "11/11 [==============================] - 0s 1ms/step - loss: 292.2167\n",
            "Epoch 6/10\n",
            "11/11 [==============================] - 0s 1ms/step - loss: 106.2417\n",
            "Epoch 7/10\n",
            "11/11 [==============================] - 0s 1ms/step - loss: 235.0033\n",
            "Epoch 8/10\n",
            "11/11 [==============================] - 0s 1ms/step - loss: 202.6223\n",
            "Epoch 9/10\n",
            "11/11 [==============================] - 0s 2ms/step - loss: 132.6577\n",
            "Epoch 10/10\n",
            "11/11 [==============================] - 0s 2ms/step - loss: 185.5403\n"
          ]
        },
        {
          "output_type": "execute_result",
          "data": {
            "text/plain": [
              "<keras.callbacks.History at 0x7efedd5a9f10>"
            ]
          },
          "metadata": {},
          "execution_count": 11
        }
      ]
    },
    {
      "cell_type": "markdown",
      "metadata": {
        "id": "XZzI8-Kl_Rdg"
      },
      "source": [
        "What is **verbose**?\n",
        "\n",
        "By setting verbose 0, 1 or 2 you just say how do you want to 'see' the training progress for each epoch.\n",
        "\n",
        "`verbose=0` will show you nothing (silent)\n",
        "\n",
        "`verbose=1` will show you an animated progress bar like this:\n",
        "\n",
        "![progres_bar](https://dphi-courses.s3.ap-south-1.amazonaws.com/Deep+Learning+Bootcamp/progress+bar.png)\n",
        "\n",
        "`verbose=2` will just mention the number of epoch like this:\n",
        "\n",
        "![verbose = 2](https://dphi-courses.s3.ap-south-1.amazonaws.com/Deep+Learning+Bootcamp/epoch.png)"
      ]
    },
    {
      "cell_type": "markdown",
      "metadata": {
        "id": "t_tKcVVzhJf8"
      },
      "source": [
        "### 4. Evaluate the model\n",
        "Evaluating the model requires that you first choose a holdout dataset used to evaluate the model. This should be data not used in the training process i.e. the X_test.\n",
        "\n",
        "The speed of model evaluation is proportional to the amount of data you want to use for the evaluation, although it is much faster than training as the model is not changed.\n",
        "\n",
        "From an API perspective, this involves calling a function with the holdout dataset and getting a loss and perhaps other metrics that can be reported."
      ]
    },
    {
      "cell_type": "code",
      "metadata": {
        "id": "qC63QoqchIa1",
        "colab": {
          "base_uri": "https://localhost:8080/"
        },
        "outputId": "4a8075f2-f366-4015-8b0a-5a9f4f9a1d8d"
      },
      "source": [
        "model.evaluate(X_test, y_test)"
      ],
      "execution_count": null,
      "outputs": [
        {
          "output_type": "stream",
          "name": "stdout",
          "text": [
            "3/3 [==============================] - 0s 3ms/step - loss: 98.4908\n"
          ]
        },
        {
          "output_type": "execute_result",
          "data": {
            "text/plain": [
              "98.49079132080078"
            ]
          },
          "metadata": {},
          "execution_count": 12
        }
      ]
    },
    {
      "cell_type": "markdown",
      "metadata": {
        "id": "gHM4sYEOnD7j"
      },
      "source": [
        "The mean squared error we got here is 64.8. Now, **what does it mean?**\n",
        "\n",
        "When you subtract the predicted values (of X_test data) from the acutal value (of X_test data), then square it and sum all the squares, and finally take a mean (i.e. average) of it, the result you will get is 64.8 in this case.\n",
        "\n",
        "evaluate() does this task automatically. If you want to get the prediciton for X_test you can do **`model.predict(X_test)`**"
      ]
    },
    {
      "cell_type": "markdown",
      "metadata": {
        "id": "li94FIlfnMBB"
      },
      "source": [
        "#### Hyperparameter Tunning\n",
        "The hyperparameters here in this notebook are:\n",
        "1. Learning Rate\n",
        "2. Epochs\n",
        "3. Batch Size\n",
        "\n",
        "We can try and change the values of these parameters and see the performance  of the model (evaluate the model) on X_test data"
      ]
    },
    {
      "cell_type": "markdown",
      "metadata": {
        "id": "XljOzViRoRbp"
      },
      "source": [
        "**Learning Rate**\n",
        "\n",
        "A scalar used to train a model via gradient descent. During each iteration, the **gradient descent** algorithm multiplies the learning rate by the gradient. The resulting product is called the **gradient step**.\n",
        "\n",
        "Learning rate is a key **hyperparameter**."
      ]
    },
    {
      "cell_type": "code",
      "metadata": {
        "id": "puhKnL9KKuZX",
        "colab": {
          "base_uri": "https://localhost:8080/"
        },
        "outputId": "3f329439-4f80-40a3-bd22-87ec64c594b9"
      },
      "source": [
        "####################### Complete example to check the performance of the model with different learning rates #######################################\n",
        "# define the model\n",
        "model = Sequential()\n",
        "model.add(Dense(10, activation='relu', input_shape=(n_features,)))\n",
        "model.add(Dense(8, activation='relu'))\n",
        "model.add(Dense(1))\n",
        "\n",
        "optimizer = RMSprop(0.1)    # 0.1 is the learning rate\n",
        "model.compile(loss='mean_squared_error',optimizer=optimizer)    # compile the model\n",
        "\n",
        "# fit the model \n",
        "model.fit(X_train, y_train, epochs=10, batch_size=30, verbose = 1)\n",
        "\n",
        "# evaluate the model\n",
        "print('The MSE value is: ', model.evaluate(X_test, y_test))"
      ],
      "execution_count": null,
      "outputs": [
        {
          "output_type": "stream",
          "name": "stdout",
          "text": [
            "Epoch 1/10\n",
            "11/11 [==============================] - 1s 3ms/step - loss: 35268.1758\n",
            "Epoch 2/10\n",
            "11/11 [==============================] - 0s 3ms/step - loss: 559.4072\n",
            "Epoch 3/10\n",
            "11/11 [==============================] - 0s 3ms/step - loss: 212.1511\n",
            "Epoch 4/10\n",
            "11/11 [==============================] - 0s 2ms/step - loss: 139.3775\n",
            "Epoch 5/10\n",
            "11/11 [==============================] - 0s 3ms/step - loss: 129.5609\n",
            "Epoch 6/10\n",
            "11/11 [==============================] - 0s 4ms/step - loss: 122.8495\n",
            "Epoch 7/10\n",
            "11/11 [==============================] - 0s 1ms/step - loss: 174.4107\n",
            "Epoch 8/10\n",
            "11/11 [==============================] - 0s 1ms/step - loss: 142.8208\n",
            "Epoch 9/10\n",
            "11/11 [==============================] - 0s 1ms/step - loss: 201.2039\n",
            "Epoch 10/10\n",
            "11/11 [==============================] - 0s 1ms/step - loss: 223.9786\n",
            "3/3 [==============================] - 0s 4ms/step - loss: 122.8249\n",
            "The MSE value is:  122.82489013671875\n"
          ]
        }
      ]
    },
    {
      "cell_type": "markdown",
      "metadata": {
        "id": "VPneBHxHYxfC"
      },
      "source": [
        "As you can see above, how the loss (cost) i.e. MSE has changed by just changing the learning rate."
      ]
    },
    {
      "cell_type": "markdown",
      "metadata": {
        "id": "fhi50q4rhUiF"
      },
      "source": [
        "### Exercise 1\n",
        "\n",
        "Test several learning rate values to see the impact of varying this value when defining your model."
      ]
    },
    {
      "cell_type": "code",
      "metadata": {
        "id": "k4BqC2Cfo159",
        "colab": {
          "base_uri": "https://localhost:8080/"
        },
        "outputId": "8211dad3-e928-4cb1-f022-194ff9f1b0d3"
      },
      "source": [
        "# Play with learning rate\n",
        "learning_rate = 0.01          # change the learning rate with different values and cheack the perfromance.\n",
        "epochs = 10\n",
        "optimizer = RMSprop(learning_rate)\n",
        "model.compile(loss='mean_squared_error',optimizer=optimizer)    # compile the model\n",
        "model.fit(X_train, y_train, epochs=epochs, batch_size=30)     # fit the model\n",
        "model.evaluate(X_test, y_test)       # Evaluate the model"
      ],
      "execution_count": null,
      "outputs": [
        {
          "output_type": "stream",
          "name": "stdout",
          "text": [
            "Epoch 1/10\n",
            "11/11 [==============================] - 0s 1ms/step - loss: 92.5503\n",
            "Epoch 2/10\n",
            "11/11 [==============================] - 0s 1ms/step - loss: 91.2674\n",
            "Epoch 3/10\n",
            "11/11 [==============================] - 0s 1ms/step - loss: 91.0050\n",
            "Epoch 4/10\n",
            "11/11 [==============================] - 0s 1ms/step - loss: 91.1363\n",
            "Epoch 5/10\n",
            "11/11 [==============================] - 0s 1ms/step - loss: 90.9091\n",
            "Epoch 6/10\n",
            "11/11 [==============================] - 0s 1ms/step - loss: 91.0144\n",
            "Epoch 7/10\n",
            "11/11 [==============================] - 0s 1ms/step - loss: 91.0843\n",
            "Epoch 8/10\n",
            "11/11 [==============================] - 0s 1ms/step - loss: 91.0463\n",
            "Epoch 9/10\n",
            "11/11 [==============================] - 0s 1ms/step - loss: 91.0625\n",
            "Epoch 10/10\n",
            "11/11 [==============================] - 0s 1ms/step - loss: 90.9934\n",
            "WARNING:tensorflow:5 out of the last 13 calls to <function Model.make_test_function.<locals>.test_function at 0x7efedd39edd0> triggered tf.function retracing. Tracing is expensive and the excessive number of tracings could be due to (1) creating @tf.function repeatedly in a loop, (2) passing tensors with different shapes, (3) passing Python objects instead of tensors. For (1), please define your @tf.function outside of the loop. For (2), @tf.function has experimental_relax_shapes=True option that relaxes argument shapes that can avoid unnecessary retracing. For (3), please refer to https://www.tensorflow.org/guide/function#controlling_retracing and https://www.tensorflow.org/api_docs/python/tf/function for  more details.\n",
            "3/3 [==============================] - 0s 5ms/step - loss: 71.1035\n"
          ]
        },
        {
          "output_type": "execute_result",
          "data": {
            "text/plain": [
              "71.10352325439453"
            ]
          },
          "metadata": {},
          "execution_count": 19
        }
      ]
    },
    {
      "cell_type": "markdown",
      "metadata": {
        "id": "Mov9-uVwpmkd"
      },
      "source": [
        "**Epochs**\n",
        "\n",
        "A full training pass over the entire dataset such that each example has been seen once. Thus, an epoch represents N/batch size training iterations, where N is the total number of examples."
      ]
    },
    {
      "cell_type": "code",
      "metadata": {
        "id": "zlZv50iKZPqo",
        "colab": {
          "base_uri": "https://localhost:8080/"
        },
        "outputId": "e95c5ade-f7b2-41b5-872e-63fc6e695575"
      },
      "source": [
        "####################### Complete example to check the performance of the model with different epochs and learning rate = 0.01 #######################################\n",
        "# define the model\n",
        "model = Sequential()\n",
        "model.add(Dense(10, activation='relu', input_shape=(n_features,)))\n",
        "model.add(Dense(8, activation='relu'))\n",
        "model.add(Dense(1))\n",
        "\n",
        "optimizer = RMSprop(0.1)    # 0.1 is the learning rate\n",
        "model.compile(loss='mean_squared_error',optimizer=optimizer)    # compile the model\n",
        "\n",
        "# fit the model \n",
        "model.fit(X_train, y_train, epochs=100, batch_size=30, verbose = 1)\n",
        "\n",
        "# evaluate the model\n",
        "print('The MSE value is: ', model.evaluate(X_test, y_test))"
      ],
      "execution_count": null,
      "outputs": [
        {
          "output_type": "stream",
          "name": "stdout",
          "text": [
            "Epoch 1/100\n",
            "11/11 [==============================] - 0s 1ms/step - loss: 86753.3906\n",
            "Epoch 2/100\n",
            "11/11 [==============================] - 0s 1ms/step - loss: 2620.8867\n",
            "Epoch 3/100\n",
            "11/11 [==============================] - 0s 1ms/step - loss: 1173.1047\n",
            "Epoch 4/100\n",
            "11/11 [==============================] - 0s 1ms/step - loss: 724.1989\n",
            "Epoch 5/100\n",
            "11/11 [==============================] - 0s 1ms/step - loss: 533.3721\n",
            "Epoch 6/100\n",
            "11/11 [==============================] - 0s 2ms/step - loss: 385.3985\n",
            "Epoch 7/100\n",
            "11/11 [==============================] - 0s 2ms/step - loss: 189.9832\n",
            "Epoch 8/100\n",
            "11/11 [==============================] - 0s 1ms/step - loss: 113.2420\n",
            "Epoch 9/100\n",
            "11/11 [==============================] - 0s 1ms/step - loss: 99.2266\n",
            "Epoch 10/100\n",
            "11/11 [==============================] - 0s 1ms/step - loss: 231.3737\n",
            "Epoch 11/100\n",
            "11/11 [==============================] - 0s 1ms/step - loss: 272.5493\n",
            "Epoch 12/100\n",
            "11/11 [==============================] - 0s 1ms/step - loss: 113.7858\n",
            "Epoch 13/100\n",
            "11/11 [==============================] - 0s 1ms/step - loss: 88.2760\n",
            "Epoch 14/100\n",
            "11/11 [==============================] - 0s 1ms/step - loss: 92.7101\n",
            "Epoch 15/100\n",
            "11/11 [==============================] - 0s 1ms/step - loss: 92.3435\n",
            "Epoch 16/100\n",
            "11/11 [==============================] - 0s 1ms/step - loss: 91.8657\n",
            "Epoch 17/100\n",
            "11/11 [==============================] - 0s 2ms/step - loss: 92.3458\n",
            "Epoch 18/100\n",
            "11/11 [==============================] - 0s 1ms/step - loss: 92.2023\n",
            "Epoch 19/100\n",
            "11/11 [==============================] - 0s 1ms/step - loss: 93.8798\n",
            "Epoch 20/100\n",
            "11/11 [==============================] - 0s 2ms/step - loss: 92.4560\n",
            "Epoch 21/100\n",
            "11/11 [==============================] - 0s 1ms/step - loss: 92.9884\n",
            "Epoch 22/100\n",
            "11/11 [==============================] - 0s 1ms/step - loss: 91.4788\n",
            "Epoch 23/100\n",
            "11/11 [==============================] - 0s 1ms/step - loss: 92.9230\n",
            "Epoch 24/100\n",
            "11/11 [==============================] - 0s 2ms/step - loss: 92.3686\n",
            "Epoch 25/100\n",
            "11/11 [==============================] - 0s 1ms/step - loss: 92.7929\n",
            "Epoch 26/100\n",
            "11/11 [==============================] - 0s 1ms/step - loss: 92.9582\n",
            "Epoch 27/100\n",
            "11/11 [==============================] - 0s 1ms/step - loss: 92.3681\n",
            "Epoch 28/100\n",
            "11/11 [==============================] - 0s 2ms/step - loss: 95.7204\n",
            "Epoch 29/100\n",
            "11/11 [==============================] - 0s 1ms/step - loss: 92.8462\n",
            "Epoch 30/100\n",
            "11/11 [==============================] - 0s 1ms/step - loss: 93.6142\n",
            "Epoch 31/100\n",
            "11/11 [==============================] - 0s 1ms/step - loss: 91.4236\n",
            "Epoch 32/100\n",
            "11/11 [==============================] - 0s 1ms/step - loss: 92.7977\n",
            "Epoch 33/100\n",
            "11/11 [==============================] - 0s 1ms/step - loss: 92.9972\n",
            "Epoch 34/100\n",
            "11/11 [==============================] - 0s 1ms/step - loss: 92.6865\n",
            "Epoch 35/100\n",
            "11/11 [==============================] - 0s 1ms/step - loss: 93.9813\n",
            "Epoch 36/100\n",
            "11/11 [==============================] - 0s 1ms/step - loss: 92.8987\n",
            "Epoch 37/100\n",
            "11/11 [==============================] - 0s 1ms/step - loss: 92.9857\n",
            "Epoch 38/100\n",
            "11/11 [==============================] - 0s 1ms/step - loss: 91.5687\n",
            "Epoch 39/100\n",
            "11/11 [==============================] - 0s 1ms/step - loss: 93.0134\n",
            "Epoch 40/100\n",
            "11/11 [==============================] - 0s 1ms/step - loss: 91.9622\n",
            "Epoch 41/100\n",
            "11/11 [==============================] - 0s 2ms/step - loss: 91.1632\n",
            "Epoch 42/100\n",
            "11/11 [==============================] - 0s 1ms/step - loss: 91.5247\n",
            "Epoch 43/100\n",
            "11/11 [==============================] - 0s 2ms/step - loss: 92.4030\n",
            "Epoch 44/100\n",
            "11/11 [==============================] - 0s 1ms/step - loss: 92.3901\n",
            "Epoch 45/100\n",
            "11/11 [==============================] - 0s 1ms/step - loss: 93.4034\n",
            "Epoch 46/100\n",
            "11/11 [==============================] - 0s 1ms/step - loss: 92.2489\n",
            "Epoch 47/100\n",
            "11/11 [==============================] - 0s 1ms/step - loss: 92.9036\n",
            "Epoch 48/100\n",
            "11/11 [==============================] - 0s 1ms/step - loss: 92.7006\n",
            "Epoch 49/100\n",
            "11/11 [==============================] - 0s 1ms/step - loss: 92.5325\n",
            "Epoch 50/100\n",
            "11/11 [==============================] - 0s 1ms/step - loss: 93.0135\n",
            "Epoch 51/100\n",
            "11/11 [==============================] - 0s 1ms/step - loss: 95.2387\n",
            "Epoch 52/100\n",
            "11/11 [==============================] - 0s 1ms/step - loss: 91.9715\n",
            "Epoch 53/100\n",
            "11/11 [==============================] - 0s 2ms/step - loss: 91.7903\n",
            "Epoch 54/100\n",
            "11/11 [==============================] - 0s 1ms/step - loss: 91.8687\n",
            "Epoch 55/100\n",
            "11/11 [==============================] - 0s 1ms/step - loss: 92.5132\n",
            "Epoch 56/100\n",
            "11/11 [==============================] - 0s 2ms/step - loss: 92.6636\n",
            "Epoch 57/100\n",
            "11/11 [==============================] - 0s 2ms/step - loss: 93.8236\n",
            "Epoch 58/100\n",
            "11/11 [==============================] - 0s 1ms/step - loss: 92.6756\n",
            "Epoch 59/100\n",
            "11/11 [==============================] - 0s 1ms/step - loss: 93.8780\n",
            "Epoch 60/100\n",
            "11/11 [==============================] - 0s 1ms/step - loss: 91.5471\n",
            "Epoch 61/100\n",
            "11/11 [==============================] - 0s 1ms/step - loss: 92.6927\n",
            "Epoch 62/100\n",
            "11/11 [==============================] - 0s 1ms/step - loss: 92.6599\n",
            "Epoch 63/100\n",
            "11/11 [==============================] - 0s 1ms/step - loss: 92.2534\n",
            "Epoch 64/100\n",
            "11/11 [==============================] - 0s 1ms/step - loss: 92.0784\n",
            "Epoch 65/100\n",
            "11/11 [==============================] - 0s 1ms/step - loss: 91.3449\n",
            "Epoch 66/100\n",
            "11/11 [==============================] - 0s 2ms/step - loss: 93.0926\n",
            "Epoch 67/100\n",
            "11/11 [==============================] - 0s 2ms/step - loss: 92.6518\n",
            "Epoch 68/100\n",
            "11/11 [==============================] - 0s 2ms/step - loss: 91.0053\n",
            "Epoch 69/100\n",
            "11/11 [==============================] - 0s 1ms/step - loss: 90.9594\n",
            "Epoch 70/100\n",
            "11/11 [==============================] - 0s 1ms/step - loss: 92.0090\n",
            "Epoch 71/100\n",
            "11/11 [==============================] - 0s 1ms/step - loss: 93.2730\n",
            "Epoch 72/100\n",
            "11/11 [==============================] - 0s 2ms/step - loss: 93.1884\n",
            "Epoch 73/100\n",
            "11/11 [==============================] - 0s 2ms/step - loss: 93.0926\n",
            "Epoch 74/100\n",
            "11/11 [==============================] - 0s 2ms/step - loss: 93.0128\n",
            "Epoch 75/100\n",
            "11/11 [==============================] - 0s 2ms/step - loss: 92.1587\n",
            "Epoch 76/100\n",
            "11/11 [==============================] - 0s 1ms/step - loss: 92.0670\n",
            "Epoch 77/100\n",
            "11/11 [==============================] - 0s 1ms/step - loss: 93.4860\n",
            "Epoch 78/100\n",
            "11/11 [==============================] - 0s 1ms/step - loss: 92.4821\n",
            "Epoch 79/100\n",
            "11/11 [==============================] - 0s 2ms/step - loss: 92.6195\n",
            "Epoch 80/100\n",
            "11/11 [==============================] - 0s 1ms/step - loss: 91.3951\n",
            "Epoch 81/100\n",
            "11/11 [==============================] - 0s 1ms/step - loss: 92.7938\n",
            "Epoch 82/100\n",
            "11/11 [==============================] - 0s 1ms/step - loss: 91.5105\n",
            "Epoch 83/100\n",
            "11/11 [==============================] - 0s 1ms/step - loss: 92.3640\n",
            "Epoch 84/100\n",
            "11/11 [==============================] - 0s 1ms/step - loss: 92.8876\n",
            "Epoch 85/100\n",
            "11/11 [==============================] - 0s 1ms/step - loss: 92.1167\n",
            "Epoch 86/100\n",
            "11/11 [==============================] - 0s 2ms/step - loss: 91.9228\n",
            "Epoch 87/100\n",
            "11/11 [==============================] - 0s 2ms/step - loss: 91.4048\n",
            "Epoch 88/100\n",
            "11/11 [==============================] - 0s 1ms/step - loss: 91.5043\n",
            "Epoch 89/100\n",
            "11/11 [==============================] - 0s 1ms/step - loss: 91.9715\n",
            "Epoch 90/100\n",
            "11/11 [==============================] - 0s 1ms/step - loss: 92.2954\n",
            "Epoch 91/100\n",
            "11/11 [==============================] - 0s 2ms/step - loss: 92.7721\n",
            "Epoch 92/100\n",
            "11/11 [==============================] - 0s 1ms/step - loss: 91.6554\n",
            "Epoch 93/100\n",
            "11/11 [==============================] - 0s 1ms/step - loss: 91.1801\n",
            "Epoch 94/100\n",
            "11/11 [==============================] - 0s 1ms/step - loss: 92.5083\n",
            "Epoch 95/100\n",
            "11/11 [==============================] - 0s 1ms/step - loss: 92.4699\n",
            "Epoch 96/100\n",
            "11/11 [==============================] - 0s 2ms/step - loss: 91.3411\n",
            "Epoch 97/100\n",
            "11/11 [==============================] - 0s 1ms/step - loss: 92.5827\n",
            "Epoch 98/100\n",
            "11/11 [==============================] - 0s 2ms/step - loss: 91.0130\n",
            "Epoch 99/100\n",
            "11/11 [==============================] - 0s 1ms/step - loss: 92.8599\n",
            "Epoch 100/100\n",
            "11/11 [==============================] - 0s 2ms/step - loss: 92.1616\n",
            "3/3 [==============================] - 0s 2ms/step - loss: 73.1858\n",
            "The MSE value is:  73.185791015625\n"
          ]
        }
      ]
    },
    {
      "cell_type": "markdown",
      "metadata": {
        "id": "CPakaxBaZZNA"
      },
      "source": [
        "You can see above how the loss (cost) i.e. MSE has changed just by changing the epochs and keeping the learning rate same as 0.01 (i.e. the first model we built)"
      ]
    },
    {
      "cell_type": "markdown",
      "metadata": {
        "id": "6WoG362ohrQF"
      },
      "source": [
        "### Exercise 2\n",
        "\n",
        "Test several epoch values to see the impact of varying this value when defining your model."
      ]
    },
    {
      "cell_type": "code",
      "metadata": {
        "id": "QUmO4ehKqC2_",
        "colab": {
          "base_uri": "https://localhost:8080/"
        },
        "outputId": "619b3a4c-f4e1-4dbe-b85d-a7d32b41d348"
      },
      "source": [
        "# Play with epochs\n",
        "learning_rate = 0.01         \n",
        "epochs =  20            # Change epochs and test the model\n",
        "optimizer = RMSprop(learning_rate)\n",
        "model.compile(loss='mean_squared_error',optimizer=optimizer)    # compile the model\n",
        "model.fit(X_train, y_train, epochs=epochs, batch_size=30)     # fit the model\n",
        "model.evaluate(X_test, y_test)       # Evaluate the model"
      ],
      "execution_count": null,
      "outputs": [
        {
          "output_type": "stream",
          "name": "stdout",
          "text": [
            "Epoch 1/20\n",
            "11/11 [==============================] - 1s 1ms/step - loss: 92.1928\n",
            "Epoch 2/20\n",
            "11/11 [==============================] - 0s 1ms/step - loss: 91.2601\n",
            "Epoch 3/20\n",
            "11/11 [==============================] - 0s 2ms/step - loss: 91.0074\n",
            "Epoch 4/20\n",
            "11/11 [==============================] - 0s 1ms/step - loss: 91.0819\n",
            "Epoch 5/20\n",
            "11/11 [==============================] - 0s 1ms/step - loss: 90.9012\n",
            "Epoch 6/20\n",
            "11/11 [==============================] - 0s 1ms/step - loss: 90.9744\n",
            "Epoch 7/20\n",
            "11/11 [==============================] - 0s 1ms/step - loss: 91.0314\n",
            "Epoch 8/20\n",
            "11/11 [==============================] - 0s 1ms/step - loss: 91.0044\n",
            "Epoch 9/20\n",
            "11/11 [==============================] - 0s 1ms/step - loss: 91.0128\n",
            "Epoch 10/20\n",
            "11/11 [==============================] - 0s 1ms/step - loss: 90.9594\n",
            "Epoch 11/20\n",
            "11/11 [==============================] - 0s 1ms/step - loss: 90.9593\n",
            "Epoch 12/20\n",
            "11/11 [==============================] - 0s 1ms/step - loss: 90.9199\n",
            "Epoch 13/20\n",
            "11/11 [==============================] - 0s 2ms/step - loss: 91.0837\n",
            "Epoch 14/20\n",
            "11/11 [==============================] - 0s 1ms/step - loss: 91.1568\n",
            "Epoch 15/20\n",
            "11/11 [==============================] - 0s 1ms/step - loss: 90.9374\n",
            "Epoch 16/20\n",
            "11/11 [==============================] - 0s 1ms/step - loss: 90.9717\n",
            "Epoch 17/20\n",
            "11/11 [==============================] - 0s 1ms/step - loss: 90.9947\n",
            "Epoch 18/20\n",
            "11/11 [==============================] - 0s 1ms/step - loss: 90.9060\n",
            "Epoch 19/20\n",
            "11/11 [==============================] - 0s 1ms/step - loss: 90.9856\n",
            "Epoch 20/20\n",
            "11/11 [==============================] - 0s 1ms/step - loss: 90.9527\n",
            "3/3 [==============================] - 0s 3ms/step - loss: 71.1101\n"
          ]
        },
        {
          "output_type": "execute_result",
          "data": {
            "text/plain": [
              "71.11012268066406"
            ]
          },
          "metadata": {},
          "execution_count": 21
        }
      ]
    },
    {
      "cell_type": "markdown",
      "metadata": {
        "id": "K6cx5vbtqdeD"
      },
      "source": [
        "### Exercise 3\n",
        "\n",
        "Find the best possible combination of *learning rate* and *epochs* while testing some combinations"
      ]
    },
    {
      "cell_type": "code",
      "metadata": {
        "id": "n8RUGIklqxKS",
        "colab": {
          "base_uri": "https://localhost:8080/"
        },
        "outputId": "90cd13ad-87c9-4ee2-f4d0-3ea704ef5b11"
      },
      "source": [
        "# play with learning rate and epochs\n",
        "learning_rate = 0.01        \n",
        "epochs = 15             \n",
        "optimizer = RMSprop(learning_rate)\n",
        "model.compile(loss='mean_squared_error',optimizer=optimizer)    # compile the model\n",
        "model.fit(X_train, y_train, epochs=epochs, batch_size=30)     # fit the model\n",
        "model.evaluate(X_test, y_test)       # Evaluate the model"
      ],
      "execution_count": null,
      "outputs": [
        {
          "output_type": "stream",
          "name": "stdout",
          "text": [
            "Epoch 1/15\n",
            "11/11 [==============================] - 0s 1ms/step - loss: 91.5436\n",
            "Epoch 2/15\n",
            "11/11 [==============================] - 0s 2ms/step - loss: 91.0621\n",
            "Epoch 3/15\n",
            "11/11 [==============================] - 0s 1ms/step - loss: 90.9592\n",
            "Epoch 4/15\n",
            "11/11 [==============================] - 0s 1ms/step - loss: 91.0711\n",
            "Epoch 5/15\n",
            "11/11 [==============================] - 0s 1ms/step - loss: 90.8945\n",
            "Epoch 6/15\n",
            "11/11 [==============================] - 0s 1ms/step - loss: 90.9747\n",
            "Epoch 7/15\n",
            "11/11 [==============================] - 0s 1ms/step - loss: 91.0319\n",
            "Epoch 8/15\n",
            "11/11 [==============================] - 0s 2ms/step - loss: 91.0045\n",
            "Epoch 9/15\n",
            "11/11 [==============================] - 0s 1ms/step - loss: 91.0128\n",
            "Epoch 10/15\n",
            "11/11 [==============================] - 0s 2ms/step - loss: 90.9593\n",
            "Epoch 11/15\n",
            "11/11 [==============================] - 0s 2ms/step - loss: 90.9592\n",
            "Epoch 12/15\n",
            "11/11 [==============================] - 0s 1ms/step - loss: 90.9198\n",
            "Epoch 13/15\n",
            "11/11 [==============================] - 0s 2ms/step - loss: 91.0835\n",
            "Epoch 14/15\n",
            "11/11 [==============================] - 0s 1ms/step - loss: 91.1566\n",
            "Epoch 15/15\n",
            "11/11 [==============================] - 0s 1ms/step - loss: 90.9373\n",
            "3/3 [==============================] - 0s 3ms/step - loss: 71.1000\n"
          ]
        },
        {
          "output_type": "execute_result",
          "data": {
            "text/plain": [
              "71.10000610351562"
            ]
          },
          "metadata": {},
          "execution_count": 22
        }
      ]
    },
    {
      "cell_type": "markdown",
      "metadata": {
        "id": "kcn3gB3Uq7u6"
      },
      "source": [
        "**Batch Size**\n",
        "\n",
        "The number of examples in a batch."
      ]
    },
    {
      "cell_type": "code",
      "metadata": {
        "id": "DTSP63PTZ8hv",
        "colab": {
          "base_uri": "https://localhost:8080/"
        },
        "outputId": "61fd0fec-02c4-4ca5-bcb8-b7eb78ba4c31"
      },
      "source": [
        "####################### Complete example to check the performance of the model with different batch size while keeping epochs as 30 and learning rate as 0.01 #######################################\n",
        "# define the model\n",
        "model = Sequential()\n",
        "model.add(Dense(10, activation='relu', input_shape=(n_features,)))\n",
        "model.add(Dense(8, activation='relu'))\n",
        "model.add(Dense(1))\n",
        "\n",
        "optimizer = RMSprop(0.1)    # 0.1 is the learning rate\n",
        "model.compile(loss='mean_squared_error',optimizer=optimizer)    # compile the model\n",
        "\n",
        "# fit the model \n",
        "model.fit(X_train, y_train, epochs=10, batch_size=40, verbose = 1)\n",
        "\n",
        "# evaluate the model\n",
        "print('The MSE value is: ', model.evaluate(X_test, y_test))"
      ],
      "execution_count": null,
      "outputs": [
        {
          "output_type": "stream",
          "name": "stdout",
          "text": [
            "Epoch 1/10\n",
            "9/9 [==============================] - 0s 1ms/step - loss: 35287.9414\n",
            "Epoch 2/10\n",
            "9/9 [==============================] - 0s 1ms/step - loss: 639.3760\n",
            "Epoch 3/10\n",
            "9/9 [==============================] - 0s 2ms/step - loss: 604.1108\n",
            "Epoch 4/10\n",
            "9/9 [==============================] - 0s 2ms/step - loss: 578.9542\n",
            "Epoch 5/10\n",
            "9/9 [==============================] - 0s 1ms/step - loss: 553.5700\n",
            "Epoch 6/10\n",
            "9/9 [==============================] - 0s 2ms/step - loss: 524.1209\n",
            "Epoch 7/10\n",
            "9/9 [==============================] - 0s 1ms/step - loss: 491.5068\n",
            "Epoch 8/10\n",
            "9/9 [==============================] - 0s 1ms/step - loss: 459.4646\n",
            "Epoch 9/10\n",
            "9/9 [==============================] - 0s 1ms/step - loss: 429.1496\n",
            "Epoch 10/10\n",
            "9/9 [==============================] - 0s 2ms/step - loss: 399.1904\n",
            "3/3 [==============================] - 0s 2ms/step - loss: 364.9667\n",
            "The MSE value is:  364.96673583984375\n"
          ]
        }
      ]
    },
    {
      "cell_type": "markdown",
      "metadata": {
        "id": "r7xoMXoVaJy5"
      },
      "source": [
        "You can see above the cost(loss) value i.e. MSE for batch size 40 while keeping epochs as 10 and learning rate as 0.01"
      ]
    },
    {
      "cell_type": "markdown",
      "metadata": {
        "id": "y9VcjhruiIxd"
      },
      "source": [
        "### Exercise 4\n",
        "\n",
        "Test several batch size values to see the impact of varying this value when defining your model."
      ]
    },
    {
      "cell_type": "code",
      "metadata": {
        "id": "WKik9O5grNa1",
        "colab": {
          "base_uri": "https://localhost:8080/"
        },
        "outputId": "c04b8670-d824-4bd3-90c9-50d4cda346d1"
      },
      "source": [
        "# play with batch size\n",
        "learning_rate = 0.01        \n",
        "epochs = 150         \n",
        "batch = 50         \n",
        "optimizer = RMSprop(learning_rate)\n",
        "model.compile(loss='mean_squared_error',optimizer=optimizer)    # compile the model\n",
        "model.fit(X_train, y_train, epochs=epochs, batch_size=batch)     # fit the model\n",
        "model.evaluate(X_test, y_test)       # Evaluate the model"
      ],
      "execution_count": null,
      "outputs": [
        {
          "output_type": "stream",
          "name": "stdout",
          "text": [
            "Epoch 1/150\n",
            "7/7 [==============================] - 0s 2ms/step - loss: 380.6645\n",
            "Epoch 2/150\n",
            "7/7 [==============================] - 0s 2ms/step - loss: 377.0655\n",
            "Epoch 3/150\n",
            "7/7 [==============================] - 0s 2ms/step - loss: 374.3417\n",
            "Epoch 4/150\n",
            "7/7 [==============================] - 0s 3ms/step - loss: 371.8885\n",
            "Epoch 5/150\n",
            "7/7 [==============================] - 0s 2ms/step - loss: 369.5190\n",
            "Epoch 6/150\n",
            "7/7 [==============================] - 0s 2ms/step - loss: 367.1602\n",
            "Epoch 7/150\n",
            "7/7 [==============================] - 0s 1ms/step - loss: 364.8392\n",
            "Epoch 8/150\n",
            "7/7 [==============================] - 0s 1ms/step - loss: 362.5410\n",
            "Epoch 9/150\n",
            "7/7 [==============================] - 0s 2ms/step - loss: 360.2498\n",
            "Epoch 10/150\n",
            "7/7 [==============================] - 0s 2ms/step - loss: 357.9911\n",
            "Epoch 11/150\n",
            "7/7 [==============================] - 0s 2ms/step - loss: 355.7362\n",
            "Epoch 12/150\n",
            "7/7 [==============================] - 0s 2ms/step - loss: 353.4995\n",
            "Epoch 13/150\n",
            "7/7 [==============================] - 0s 1ms/step - loss: 351.2501\n",
            "Epoch 14/150\n",
            "7/7 [==============================] - 0s 2ms/step - loss: 348.9991\n",
            "Epoch 15/150\n",
            "7/7 [==============================] - 0s 2ms/step - loss: 346.7499\n",
            "Epoch 16/150\n",
            "7/7 [==============================] - 0s 2ms/step - loss: 344.5345\n",
            "Epoch 17/150\n",
            "7/7 [==============================] - 0s 2ms/step - loss: 342.3352\n",
            "Epoch 18/150\n",
            "7/7 [==============================] - 0s 2ms/step - loss: 340.1773\n",
            "Epoch 19/150\n",
            "7/7 [==============================] - 0s 2ms/step - loss: 338.0086\n",
            "Epoch 20/150\n",
            "7/7 [==============================] - 0s 2ms/step - loss: 335.8275\n",
            "Epoch 21/150\n",
            "7/7 [==============================] - 0s 2ms/step - loss: 333.6404\n",
            "Epoch 22/150\n",
            "7/7 [==============================] - 0s 2ms/step - loss: 331.4788\n",
            "Epoch 23/150\n",
            "7/7 [==============================] - 0s 1ms/step - loss: 329.3539\n",
            "Epoch 24/150\n",
            "7/7 [==============================] - 0s 1ms/step - loss: 327.1981\n",
            "Epoch 25/150\n",
            "7/7 [==============================] - 0s 2ms/step - loss: 325.0669\n",
            "Epoch 26/150\n",
            "7/7 [==============================] - 0s 1ms/step - loss: 322.9695\n",
            "Epoch 27/150\n",
            "7/7 [==============================] - 0s 1ms/step - loss: 320.8403\n",
            "Epoch 28/150\n",
            "7/7 [==============================] - 0s 2ms/step - loss: 318.7175\n",
            "Epoch 29/150\n",
            "7/7 [==============================] - 0s 1ms/step - loss: 316.6619\n",
            "Epoch 30/150\n",
            "7/7 [==============================] - 0s 2ms/step - loss: 314.5931\n",
            "Epoch 31/150\n",
            "7/7 [==============================] - 0s 2ms/step - loss: 312.5174\n",
            "Epoch 32/150\n",
            "7/7 [==============================] - 0s 1ms/step - loss: 310.4606\n",
            "Epoch 33/150\n",
            "7/7 [==============================] - 0s 2ms/step - loss: 308.4044\n",
            "Epoch 34/150\n",
            "7/7 [==============================] - 0s 2ms/step - loss: 306.3777\n",
            "Epoch 35/150\n",
            "7/7 [==============================] - 0s 2ms/step - loss: 304.3397\n",
            "Epoch 36/150\n",
            "7/7 [==============================] - 0s 1ms/step - loss: 302.2817\n",
            "Epoch 37/150\n",
            "7/7 [==============================] - 0s 1ms/step - loss: 300.3051\n",
            "Epoch 38/150\n",
            "7/7 [==============================] - 0s 1ms/step - loss: 298.2973\n",
            "Epoch 39/150\n",
            "7/7 [==============================] - 0s 2ms/step - loss: 296.3142\n",
            "Epoch 40/150\n",
            "7/7 [==============================] - 0s 1ms/step - loss: 294.3427\n",
            "Epoch 41/150\n",
            "7/7 [==============================] - 0s 1ms/step - loss: 292.3567\n",
            "Epoch 42/150\n",
            "7/7 [==============================] - 0s 2ms/step - loss: 290.4073\n",
            "Epoch 43/150\n",
            "7/7 [==============================] - 0s 2ms/step - loss: 288.4578\n",
            "Epoch 44/150\n",
            "7/7 [==============================] - 0s 2ms/step - loss: 286.5075\n",
            "Epoch 45/150\n",
            "7/7 [==============================] - 0s 2ms/step - loss: 284.5787\n",
            "Epoch 46/150\n",
            "7/7 [==============================] - 0s 2ms/step - loss: 282.6570\n",
            "Epoch 47/150\n",
            "7/7 [==============================] - 0s 2ms/step - loss: 280.7404\n",
            "Epoch 48/150\n",
            "7/7 [==============================] - 0s 2ms/step - loss: 278.8535\n",
            "Epoch 49/150\n",
            "7/7 [==============================] - 0s 1ms/step - loss: 276.9593\n",
            "Epoch 50/150\n",
            "7/7 [==============================] - 0s 1ms/step - loss: 275.0651\n",
            "Epoch 51/150\n",
            "7/7 [==============================] - 0s 2ms/step - loss: 273.1878\n",
            "Epoch 52/150\n",
            "7/7 [==============================] - 0s 2ms/step - loss: 271.3265\n",
            "Epoch 53/150\n",
            "7/7 [==============================] - 0s 1ms/step - loss: 269.4791\n",
            "Epoch 54/150\n",
            "7/7 [==============================] - 0s 2ms/step - loss: 267.6330\n",
            "Epoch 55/150\n",
            "7/7 [==============================] - 0s 2ms/step - loss: 265.7737\n",
            "Epoch 56/150\n",
            "7/7 [==============================] - 0s 2ms/step - loss: 263.9343\n",
            "Epoch 57/150\n",
            "7/7 [==============================] - 0s 2ms/step - loss: 262.1288\n",
            "Epoch 58/150\n",
            "7/7 [==============================] - 0s 1ms/step - loss: 260.3232\n",
            "Epoch 59/150\n",
            "7/7 [==============================] - 0s 1ms/step - loss: 258.5078\n",
            "Epoch 60/150\n",
            "7/7 [==============================] - 0s 1ms/step - loss: 256.7243\n",
            "Epoch 61/150\n",
            "7/7 [==============================] - 0s 1ms/step - loss: 254.9556\n",
            "Epoch 62/150\n",
            "7/7 [==============================] - 0s 2ms/step - loss: 253.1483\n",
            "Epoch 63/150\n",
            "7/7 [==============================] - 0s 2ms/step - loss: 251.3940\n",
            "Epoch 64/150\n",
            "7/7 [==============================] - 0s 2ms/step - loss: 249.6725\n",
            "Epoch 65/150\n",
            "7/7 [==============================] - 0s 2ms/step - loss: 247.9538\n",
            "Epoch 66/150\n",
            "7/7 [==============================] - 0s 1ms/step - loss: 246.2532\n",
            "Epoch 67/150\n",
            "7/7 [==============================] - 0s 2ms/step - loss: 244.5198\n",
            "Epoch 68/150\n",
            "7/7 [==============================] - 0s 2ms/step - loss: 242.8040\n",
            "Epoch 69/150\n",
            "7/7 [==============================] - 0s 2ms/step - loss: 241.0884\n",
            "Epoch 70/150\n",
            "7/7 [==============================] - 0s 2ms/step - loss: 239.4120\n",
            "Epoch 71/150\n",
            "7/7 [==============================] - 0s 2ms/step - loss: 237.7782\n",
            "Epoch 72/150\n",
            "7/7 [==============================] - 0s 1ms/step - loss: 236.0902\n",
            "Epoch 73/150\n",
            "7/7 [==============================] - 0s 1ms/step - loss: 234.4384\n",
            "Epoch 74/150\n",
            "7/7 [==============================] - 0s 2ms/step - loss: 232.7854\n",
            "Epoch 75/150\n",
            "7/7 [==============================] - 0s 2ms/step - loss: 231.1411\n",
            "Epoch 76/150\n",
            "7/7 [==============================] - 0s 1ms/step - loss: 229.5213\n",
            "Epoch 77/150\n",
            "7/7 [==============================] - 0s 1ms/step - loss: 227.9025\n",
            "Epoch 78/150\n",
            "7/7 [==============================] - 0s 2ms/step - loss: 226.3080\n",
            "Epoch 79/150\n",
            "7/7 [==============================] - 0s 1ms/step - loss: 224.6809\n",
            "Epoch 80/150\n",
            "7/7 [==============================] - 0s 1ms/step - loss: 223.0833\n",
            "Epoch 81/150\n",
            "7/7 [==============================] - 0s 1ms/step - loss: 221.5123\n",
            "Epoch 82/150\n",
            "7/7 [==============================] - 0s 1ms/step - loss: 219.9236\n",
            "Epoch 83/150\n",
            "7/7 [==============================] - 0s 1ms/step - loss: 218.3501\n",
            "Epoch 84/150\n",
            "7/7 [==============================] - 0s 1ms/step - loss: 216.8203\n",
            "Epoch 85/150\n",
            "7/7 [==============================] - 0s 2ms/step - loss: 215.3017\n",
            "Epoch 86/150\n",
            "7/7 [==============================] - 0s 1ms/step - loss: 213.7908\n",
            "Epoch 87/150\n",
            "7/7 [==============================] - 0s 1ms/step - loss: 212.2267\n",
            "Epoch 88/150\n",
            "7/7 [==============================] - 0s 2ms/step - loss: 210.7004\n",
            "Epoch 89/150\n",
            "7/7 [==============================] - 0s 1ms/step - loss: 209.2081\n",
            "Epoch 90/150\n",
            "7/7 [==============================] - 0s 2ms/step - loss: 207.7193\n",
            "Epoch 91/150\n",
            "7/7 [==============================] - 0s 2ms/step - loss: 206.2386\n",
            "Epoch 92/150\n",
            "7/7 [==============================] - 0s 1ms/step - loss: 204.7589\n",
            "Epoch 93/150\n",
            "7/7 [==============================] - 0s 1ms/step - loss: 203.2970\n",
            "Epoch 94/150\n",
            "7/7 [==============================] - 0s 2ms/step - loss: 201.8469\n",
            "Epoch 95/150\n",
            "7/7 [==============================] - 0s 2ms/step - loss: 200.3928\n",
            "Epoch 96/150\n",
            "7/7 [==============================] - 0s 1ms/step - loss: 198.9392\n",
            "Epoch 97/150\n",
            "7/7 [==============================] - 0s 2ms/step - loss: 197.4972\n",
            "Epoch 98/150\n",
            "7/7 [==============================] - 0s 2ms/step - loss: 196.1114\n",
            "Epoch 99/150\n",
            "7/7 [==============================] - 0s 1ms/step - loss: 194.7078\n",
            "Epoch 100/150\n",
            "7/7 [==============================] - 0s 2ms/step - loss: 193.2841\n",
            "Epoch 101/150\n",
            "7/7 [==============================] - 0s 1ms/step - loss: 191.9229\n",
            "Epoch 102/150\n",
            "7/7 [==============================] - 0s 2ms/step - loss: 190.5435\n",
            "Epoch 103/150\n",
            "7/7 [==============================] - 0s 1ms/step - loss: 189.1929\n",
            "Epoch 104/150\n",
            "7/7 [==============================] - 0s 1ms/step - loss: 187.8078\n",
            "Epoch 105/150\n",
            "7/7 [==============================] - 0s 2ms/step - loss: 186.4438\n",
            "Epoch 106/150\n",
            "7/7 [==============================] - 0s 2ms/step - loss: 185.1297\n",
            "Epoch 107/150\n",
            "7/7 [==============================] - 0s 1ms/step - loss: 183.8208\n",
            "Epoch 108/150\n",
            "7/7 [==============================] - 0s 1ms/step - loss: 182.5211\n",
            "Epoch 109/150\n",
            "7/7 [==============================] - 0s 2ms/step - loss: 181.1987\n",
            "Epoch 110/150\n",
            "7/7 [==============================] - 0s 2ms/step - loss: 179.8728\n",
            "Epoch 111/150\n",
            "7/7 [==============================] - 0s 2ms/step - loss: 178.5760\n",
            "Epoch 112/150\n",
            "7/7 [==============================] - 0s 2ms/step - loss: 177.3085\n",
            "Epoch 113/150\n",
            "7/7 [==============================] - 0s 2ms/step - loss: 176.0575\n",
            "Epoch 114/150\n",
            "7/7 [==============================] - 0s 2ms/step - loss: 174.7872\n",
            "Epoch 115/150\n",
            "7/7 [==============================] - 0s 2ms/step - loss: 173.5464\n",
            "Epoch 116/150\n",
            "7/7 [==============================] - 0s 2ms/step - loss: 172.2951\n",
            "Epoch 117/150\n",
            "7/7 [==============================] - 0s 2ms/step - loss: 171.0521\n",
            "Epoch 118/150\n",
            "7/7 [==============================] - 0s 2ms/step - loss: 169.8392\n",
            "Epoch 119/150\n",
            "7/7 [==============================] - 0s 2ms/step - loss: 168.6352\n",
            "Epoch 120/150\n",
            "7/7 [==============================] - 0s 1ms/step - loss: 167.4202\n",
            "Epoch 121/150\n",
            "7/7 [==============================] - 0s 1ms/step - loss: 166.2115\n",
            "Epoch 122/150\n",
            "7/7 [==============================] - 0s 1ms/step - loss: 165.0380\n",
            "Epoch 123/150\n",
            "7/7 [==============================] - 0s 2ms/step - loss: 163.8792\n",
            "Epoch 124/150\n",
            "7/7 [==============================] - 0s 2ms/step - loss: 162.6990\n",
            "Epoch 125/150\n",
            "7/7 [==============================] - 0s 2ms/step - loss: 161.5659\n",
            "Epoch 126/150\n",
            "7/7 [==============================] - 0s 2ms/step - loss: 160.4143\n",
            "Epoch 127/150\n",
            "7/7 [==============================] - 0s 1ms/step - loss: 159.2650\n",
            "Epoch 128/150\n",
            "7/7 [==============================] - 0s 2ms/step - loss: 158.1410\n",
            "Epoch 129/150\n",
            "7/7 [==============================] - 0s 1ms/step - loss: 156.9977\n",
            "Epoch 130/150\n",
            "7/7 [==============================] - 0s 1ms/step - loss: 155.9020\n",
            "Epoch 131/150\n",
            "7/7 [==============================] - 0s 1ms/step - loss: 154.8272\n",
            "Epoch 132/150\n",
            "7/7 [==============================] - 0s 1ms/step - loss: 153.7243\n",
            "Epoch 133/150\n",
            "7/7 [==============================] - 0s 2ms/step - loss: 152.6749\n",
            "Epoch 134/150\n",
            "7/7 [==============================] - 0s 1ms/step - loss: 151.6361\n",
            "Epoch 135/150\n",
            "7/7 [==============================] - 0s 1ms/step - loss: 150.6013\n",
            "Epoch 136/150\n",
            "7/7 [==============================] - 0s 1ms/step - loss: 149.5210\n",
            "Epoch 137/150\n",
            "7/7 [==============================] - 0s 1ms/step - loss: 148.4919\n",
            "Epoch 138/150\n",
            "7/7 [==============================] - 0s 1ms/step - loss: 147.4757\n",
            "Epoch 139/150\n",
            "7/7 [==============================] - 0s 1ms/step - loss: 146.4294\n",
            "Epoch 140/150\n",
            "7/7 [==============================] - 0s 2ms/step - loss: 145.4172\n",
            "Epoch 141/150\n",
            "7/7 [==============================] - 0s 2ms/step - loss: 144.4432\n",
            "Epoch 142/150\n",
            "7/7 [==============================] - 0s 1ms/step - loss: 143.4643\n",
            "Epoch 143/150\n",
            "7/7 [==============================] - 0s 1ms/step - loss: 142.4996\n",
            "Epoch 144/150\n",
            "7/7 [==============================] - 0s 1ms/step - loss: 141.5435\n",
            "Epoch 145/150\n",
            "7/7 [==============================] - 0s 1ms/step - loss: 140.5900\n",
            "Epoch 146/150\n",
            "7/7 [==============================] - 0s 1ms/step - loss: 139.6221\n",
            "Epoch 147/150\n",
            "7/7 [==============================] - 0s 1ms/step - loss: 138.6563\n",
            "Epoch 148/150\n",
            "7/7 [==============================] - 0s 2ms/step - loss: 137.7493\n",
            "Epoch 149/150\n",
            "7/7 [==============================] - 0s 1ms/step - loss: 136.8236\n",
            "Epoch 150/150\n",
            "7/7 [==============================] - 0s 2ms/step - loss: 135.9152\n",
            "3/3 [==============================] - 0s 3ms/step - loss: 116.3665\n"
          ]
        },
        {
          "output_type": "execute_result",
          "data": {
            "text/plain": [
              "116.36653900146484"
            ]
          },
          "metadata": {},
          "execution_count": 24
        }
      ]
    },
    {
      "cell_type": "markdown",
      "metadata": {
        "id": "wQV6zkKXrwR0"
      },
      "source": [
        "#### **Summary of hyperparameter tuning**\n",
        "Most machine learning problems require a lot of hyperparameter tuning. Unfortunately, we can't provide concrete tuning rules for every model. Lowering the learning rate can help one model converge efficiently but make another model converge much too slowly. You must experiment to find the best set of hyperparameters for your dataset. That said, here are a few rules of thumb:\n",
        "\n",
        "*  Training loss should steadily decrease, steeply at first, and then more slowly until the slope of the curve reaches or approaches zero.\n",
        "*  If the training loss does not converge, train for more epochs.\n",
        "*  If the training loss decreases too slowly, increase the learning rate. Note that setting the learning rate too high may also prevent training loss from converging.\n",
        "*  If the training loss varies wildly (that is, the training loss jumps around), decrease the learning rate.\n",
        "*  Lowering the learning rate while increasing the number of epochs or the batch size is often a good combination.\n",
        "*  Setting the batch size to a very small batch number can also cause instability. First, try large batch size values. Then, decrease the batch size until you see degradation.\n",
        "*  For real-world datasets consisting of a very large number of examples, the entire dataset might not fit into memory. In such cases, you'll need to reduce the batch size to enable a batch to fit into memory.\n",
        "\n",
        "Remember: the ideal combination of hyperparameters is data dependent, so you must always experiment and verify."
      ]
    },
    {
      "cell_type": "markdown",
      "metadata": {
        "id": "1GDb-EBTFuX9"
      },
      "source": [
        "We can do a hyperparameter tuning procedure in two ways:\n",
        "1. Implementing hyperparameter tuning with Sklearn\n",
        "2. Implementing hyperparameter tuning with Keras"
      ]
    },
    {
      "cell_type": "markdown",
      "metadata": {
        "id": "sHo4yEC44ucs"
      },
      "source": [
        "#### **Implementing hyperparameter tuning with Sklearn**\n",
        "Well, we can automate the hyperparameter tunning using **GridSearCV**. GridSearchCV is a hyperparameter search procedure that is done over a defined grid of hyperparameters. Each one of the hyperparameter combinations is used for training a new model, while a cross-validation process is executed to measure the performance of the provisional models. Once the process is done, the hyperparameters and the model with the best performance are chosen.\n"
      ]
    },
    {
      "cell_type": "markdown",
      "metadata": {
        "id": "Hcbe1A171evn"
      },
      "source": [
        "Let's first take a look at the implementation of GridSearchCV with Sklearn, following the steps:\n",
        "1. Define the general architecture of the model\n",
        "2. Define the hyperparameters grid to be validated\n",
        "3. Run the GridSearchCV process\n",
        "4. Print the results of the best model"
      ]
    },
    {
      "cell_type": "code",
      "metadata": {
        "id": "ofZvGK5eb8Zg",
        "colab": {
          "base_uri": "https://localhost:8080/",
          "height": 415
        },
        "outputId": "bf4d31bc-a45f-403e-d685-057959d68245"
      },
      "source": [
        "# Import the GridSearchCV class\n",
        "from sklearn.model_selection import GridSearchCV\n",
        "\n",
        "# 1. Define the model's architecture\n",
        "model = Sequential()\n",
        "model.add(Dense(10, activation='relu', input_shape=(n_features,)))\n",
        "model.add(Dense(8, activation='relu'))\n",
        "model.add(Dense(1))\n",
        "optimizer = RMSprop(0.1)    # 0.1 is the learning rate\n",
        "model.compile(loss='mean_squared_error',optimizer=optimizer)    # compile the model\n",
        "\n",
        "# 2. Define the hyperparameters grid to be validated\n",
        "batch_size = [10, 20, 40, 60, 80, 100]\n",
        "epochs = [10, 50, 100]\n",
        "param_grid = dict(batch_size=batch_size, epochs=epochs)\n",
        "grid = GridSearchCV(estimator=model, param_grid=param_grid, scoring='neg_mean_squared_error', n_jobs=-1)\n",
        "\n",
        "# 3. Run the GridSearchCV process\n",
        "grid_result = grid.fit(X_train, y_train)\n",
        "\n",
        "# 4. Print the results of the best model\n",
        "print(\"Best: %f using %s\" % (grid_result.best_score_, grid_result.best_params_))"
      ],
      "execution_count": null,
      "outputs": [
        {
          "output_type": "error",
          "ename": "TypeError",
          "evalue": "ignored",
          "traceback": [
            "\u001b[0;31m---------------------------------------------------------------------------\u001b[0m",
            "\u001b[0;31mTypeError\u001b[0m                                 Traceback (most recent call last)",
            "\u001b[0;32m<ipython-input-25-f1213a1005ed>\u001b[0m in \u001b[0;36m<module>\u001b[0;34m()\u001b[0m\n\u001b[1;32m     17\u001b[0m \u001b[0;34m\u001b[0m\u001b[0m\n\u001b[1;32m     18\u001b[0m \u001b[0;31m# 3. Run the GridSearchCV process\u001b[0m\u001b[0;34m\u001b[0m\u001b[0;34m\u001b[0m\u001b[0;34m\u001b[0m\u001b[0m\n\u001b[0;32m---> 19\u001b[0;31m \u001b[0mgrid_result\u001b[0m \u001b[0;34m=\u001b[0m \u001b[0mgrid\u001b[0m\u001b[0;34m.\u001b[0m\u001b[0mfit\u001b[0m\u001b[0;34m(\u001b[0m\u001b[0mX_train\u001b[0m\u001b[0;34m,\u001b[0m \u001b[0my_train\u001b[0m\u001b[0;34m)\u001b[0m\u001b[0;34m\u001b[0m\u001b[0;34m\u001b[0m\u001b[0m\n\u001b[0m\u001b[1;32m     20\u001b[0m \u001b[0;34m\u001b[0m\u001b[0m\n\u001b[1;32m     21\u001b[0m \u001b[0;31m# 4. Print the results of the best model\u001b[0m\u001b[0;34m\u001b[0m\u001b[0;34m\u001b[0m\u001b[0;34m\u001b[0m\u001b[0m\n",
            "\u001b[0;32m/usr/local/lib/python3.7/dist-packages/sklearn/model_selection/_search.py\u001b[0m in \u001b[0;36mfit\u001b[0;34m(self, X, y, groups, **fit_params)\u001b[0m\n\u001b[1;32m    803\u001b[0m         \u001b[0mn_splits\u001b[0m \u001b[0;34m=\u001b[0m \u001b[0mcv_orig\u001b[0m\u001b[0;34m.\u001b[0m\u001b[0mget_n_splits\u001b[0m\u001b[0;34m(\u001b[0m\u001b[0mX\u001b[0m\u001b[0;34m,\u001b[0m \u001b[0my\u001b[0m\u001b[0;34m,\u001b[0m \u001b[0mgroups\u001b[0m\u001b[0;34m)\u001b[0m\u001b[0;34m\u001b[0m\u001b[0;34m\u001b[0m\u001b[0m\n\u001b[1;32m    804\u001b[0m \u001b[0;34m\u001b[0m\u001b[0m\n\u001b[0;32m--> 805\u001b[0;31m         \u001b[0mbase_estimator\u001b[0m \u001b[0;34m=\u001b[0m \u001b[0mclone\u001b[0m\u001b[0;34m(\u001b[0m\u001b[0mself\u001b[0m\u001b[0;34m.\u001b[0m\u001b[0mestimator\u001b[0m\u001b[0;34m)\u001b[0m\u001b[0;34m\u001b[0m\u001b[0;34m\u001b[0m\u001b[0m\n\u001b[0m\u001b[1;32m    806\u001b[0m \u001b[0;34m\u001b[0m\u001b[0m\n\u001b[1;32m    807\u001b[0m         \u001b[0mparallel\u001b[0m \u001b[0;34m=\u001b[0m \u001b[0mParallel\u001b[0m\u001b[0;34m(\u001b[0m\u001b[0mn_jobs\u001b[0m\u001b[0;34m=\u001b[0m\u001b[0mself\u001b[0m\u001b[0;34m.\u001b[0m\u001b[0mn_jobs\u001b[0m\u001b[0;34m,\u001b[0m \u001b[0mpre_dispatch\u001b[0m\u001b[0;34m=\u001b[0m\u001b[0mself\u001b[0m\u001b[0;34m.\u001b[0m\u001b[0mpre_dispatch\u001b[0m\u001b[0;34m)\u001b[0m\u001b[0;34m\u001b[0m\u001b[0;34m\u001b[0m\u001b[0m\n",
            "\u001b[0;32m/usr/local/lib/python3.7/dist-packages/sklearn/base.py\u001b[0m in \u001b[0;36mclone\u001b[0;34m(estimator, safe)\u001b[0m\n\u001b[1;32m     78\u001b[0m                     \u001b[0;34m\"it does not seem to be a scikit-learn \"\u001b[0m\u001b[0;34m\u001b[0m\u001b[0;34m\u001b[0m\u001b[0m\n\u001b[1;32m     79\u001b[0m                     \u001b[0;34m\"estimator as it does not implement a \"\u001b[0m\u001b[0;34m\u001b[0m\u001b[0;34m\u001b[0m\u001b[0m\n\u001b[0;32m---> 80\u001b[0;31m                     \u001b[0;34m\"'get_params' method.\"\u001b[0m \u001b[0;34m%\u001b[0m \u001b[0;34m(\u001b[0m\u001b[0mrepr\u001b[0m\u001b[0;34m(\u001b[0m\u001b[0mestimator\u001b[0m\u001b[0;34m)\u001b[0m\u001b[0;34m,\u001b[0m \u001b[0mtype\u001b[0m\u001b[0;34m(\u001b[0m\u001b[0mestimator\u001b[0m\u001b[0;34m)\u001b[0m\u001b[0;34m)\u001b[0m\u001b[0;34m\u001b[0m\u001b[0;34m\u001b[0m\u001b[0m\n\u001b[0m\u001b[1;32m     81\u001b[0m                 )\n\u001b[1;32m     82\u001b[0m \u001b[0;34m\u001b[0m\u001b[0m\n",
            "\u001b[0;31mTypeError\u001b[0m: Cannot clone object '<keras.engine.sequential.Sequential object at 0x7efed3c97950>' (type <class 'keras.engine.sequential.Sequential'>): it does not seem to be a scikit-learn estimator as it does not implement a 'get_params' method."
          ]
        }
      ]
    },
    {
      "cell_type": "markdown",
      "metadata": {
        "id": "4K6RVW_D4JEC"
      },
      "source": [
        "We can observe an error in the hyperparameter tuning procedure using native Sklearn, because the defined model is a Sequential model implemented by Keras, not a scikit-learn estimator. In order to correct this error, we will integrate Sklearn and Keras properly, by (a) creating a `create_model` function that allows to create the model in an automated way, and (b) defining a `KerasRegressor` model which is an implementation of the scikit-learn regressor API for Keras."
      ]
    },
    {
      "cell_type": "code",
      "metadata": {
        "id": "KBqYpM4bXCCK",
        "colab": {
          "base_uri": "https://localhost:8080/"
        },
        "outputId": "3cd5c4cc-8135-4516-cd3a-9121d9be0277"
      },
      "source": [
        "# ----------------------------- Functional Tuning - Option 1: using Sklearn  ------------------------------\n",
        "# Goal: tune the batch size and epochs\n",
        "\n",
        "# Import KerasRegressor class\n",
        "from keras.wrappers.scikit_learn import KerasRegressor\n",
        "\n",
        "# Define the model trhough a user-defined function\n",
        "def create_model(optimizer=RMSprop(0.01)):\n",
        "  model = Sequential()\n",
        "  model.add(Dense(10, activation='relu', input_shape=(n_features,)))\n",
        "  model.add(Dense(8, activation='relu'))\n",
        "  model.add(Dense(1))\n",
        "  model.compile(loss='mse', metrics=['mse'], optimizer=optimizer)    # compile the model\n",
        "  return model\n",
        "model = KerasRegressor(build_fn=create_model, verbose=1)\n",
        "\n",
        "# Define the hyperparameters grid to be validated\n",
        "batch_size = [10, 20, 30, 40, 60, 80, 100]\n",
        "epochs = [10, 50, 100]\n",
        "param_grid = dict(batch_size=batch_size, nb_epoch=epochs)\n",
        "model = KerasRegressor(build_fn=create_model, verbose=1)\n",
        "grid = GridSearchCV(estimator=model, param_grid=param_grid, cv=5, n_jobs=-1)\n",
        "\n",
        "# Run the GridSearchCV process\n",
        "grid_result = grid.fit(X_train, y_train, verbose = 1)\n",
        "\n",
        "# Print the results of the best model\n",
        "print('Best params: ' + str(grid_result.best_params_))"
      ],
      "execution_count": null,
      "outputs": [
        {
          "output_type": "stream",
          "name": "stderr",
          "text": [
            "/usr/local/lib/python3.7/dist-packages/ipykernel_launcher.py:15: DeprecationWarning: KerasRegressor is deprecated, use Sci-Keras (https://github.com/adriangb/scikeras) instead. See https://www.adriangb.com/scikeras/stable/migration.html for help migrating.\n",
            "  from ipykernel import kernelapp as app\n",
            "/usr/local/lib/python3.7/dist-packages/ipykernel_launcher.py:21: DeprecationWarning: KerasRegressor is deprecated, use Sci-Keras (https://github.com/adriangb/scikeras) instead. See https://www.adriangb.com/scikeras/stable/migration.html for help migrating.\n"
          ]
        },
        {
          "output_type": "stream",
          "name": "stdout",
          "text": [
            "33/33 [==============================] - 1s 2ms/step - loss: 152.2277 - mse: 152.2277\n",
            "Best params: {'batch_size': 10, 'nb_epoch': 10}\n"
          ]
        }
      ]
    },
    {
      "cell_type": "code",
      "metadata": {
        "id": "x5yqTxcWd2tY",
        "colab": {
          "base_uri": "https://localhost:8080/"
        },
        "outputId": "48501410-de06-48a6-df2a-c61e1a8c1f75"
      },
      "source": [
        "# Import the cross validation evaluator\n",
        "from sklearn.model_selection import cross_val_score\n",
        "\n",
        "# Measure the model's performance\n",
        "results = cross_val_score(grid.best_estimator_, X_test, y_test, cv=5)\n",
        "print('Results: \\n  * Mean:', -results.mean(), '\\n  * Std:', results.std())"
      ],
      "execution_count": null,
      "outputs": [
        {
          "output_type": "stream",
          "name": "stdout",
          "text": [
            "7/7 [==============================] - 1s 2ms/step - loss: 290.4482 - mse: 290.4482\n",
            "2/2 [==============================] - 0s 5ms/step - loss: 62.2067 - mse: 62.2067\n",
            "7/7 [==============================] - 1s 2ms/step - loss: 836.5371 - mse: 836.5371\n",
            "2/2 [==============================] - 0s 4ms/step - loss: 280.7193 - mse: 280.7193\n",
            "7/7 [==============================] - 1s 3ms/step - loss: 669.5964 - mse: 669.5964\n",
            "2/2 [==============================] - 0s 3ms/step - loss: 472.3182 - mse: 472.3182\n",
            "7/7 [==============================] - 1s 2ms/step - loss: 832.7408 - mse: 832.7408\n",
            "2/2 [==============================] - 0s 3ms/step - loss: 226.5659 - mse: 226.5659\n",
            "7/7 [==============================] - 1s 2ms/step - loss: 1630.1208 - mse: 1630.1208\n",
            "2/2 [==============================] - 0s 8ms/step - loss: 135.9110 - mse: 135.9110\n",
            "Results: \n",
            "  * Mean: 235.54422836303712 \n",
            "  * Std: 140.1113873837318\n"
          ]
        }
      ]
    },
    {
      "cell_type": "markdown",
      "metadata": {
        "id": "QwjqAqid476m"
      },
      "source": [
        "#### **Implementing hyperparameter tuning with Keras**\n",
        "Now we will go through the process of automating hyperparameter tuning using **Random Search** and **Keras**. Random Search is a hyperparameter search procedure that is performed on a defined grid of hyperparameters. However, not all hyperparameter combinations are used to train a new model, only some selected randomly, while a process of cross-validation to measure the performance of temporal models. Once the process is complete, the hyperparameters and the best performing model are chosen.\n",
        "\n",
        "Let's take a look at the implementation of Random Search with Keras, following the steps:\n",
        "\n",
        "0. Install and import all the packages needed\n",
        "1. Define the general architecture of the model through a creation function\n",
        "2. Define the hyperparameters grid to be validated\n",
        "3. Run the GridSearchCV process\n",
        "4. Print the results of the best model\n",
        "\n",
        "To execute the hyperparameter tuning procedure we will use the `keras-tuner`, a library that helps you pick the optimal set of hyperparameters for your TensorFlow model."
      ]
    },
    {
      "cell_type": "code",
      "metadata": {
        "id": "inRKd7kY2NEY",
        "colab": {
          "base_uri": "https://localhost:8080/"
        },
        "outputId": "0acd4f36-8d78-4d4a-80ed-64967768845c"
      },
      "source": [
        "# ----------------------------- Functional Tuning - Option 2: using Keras Tuner ------------------------------\n",
        "# Goal: tune the learning rate\n",
        "\n",
        "# 0. Install and import all the packages needed\n",
        "!pip install -q -U keras-tuner\n",
        "import kerastuner as kt\n",
        "\n",
        "# 1. Define the general architecture of the model through a creation user-defined function\n",
        "def model_builder(hp):\n",
        "  model = Sequential()\n",
        "  model.add(Dense(10, activation='relu', input_shape=(n_features,)))\n",
        "  model.add(Dense(8, activation='relu'))\n",
        "  model.add(Dense(1))\n",
        "  hp_learning_rate = hp.Choice('learning_rate', values = [1e-1, 1e-2, 1e-3, 1e-4]) # Tuning the learning rate (four different values to test: 0.1, 0.01, 0.001, 0.0001)\n",
        "  optimizer = RMSprop(learning_rate = hp_learning_rate)                            # Defining the optimizer\n",
        "  model.compile(loss='mse',metrics=['mse'], optimizer=optimizer)                   # Compiling the model \n",
        "  return model                                                                     # Returning the defined model\n",
        "\n",
        "# 2. Define the hyperparameters grid to be validated\n",
        "tuner_rs = kt.RandomSearch(\n",
        "              model_builder,                # Takes hyperparameters (hp) and returns a Model instance\n",
        "              objective = 'mse',            # Name of model metric to minimize or maximize\n",
        "              seed = 42,                    # Random seed for replication purposes\n",
        "              max_trials = 5,               # Total number of trials (model configurations) to test at most. Note that the oracle may interrupt the search before max_trial models have been tested.\n",
        "              directory='random_search')    # Path to the working directory (relative).\n",
        "\n",
        "# 3. Run the GridSearchCV process\n",
        "tuner_rs.search(X_train, y_train, epochs=10, validation_split=0.2, verbose=1)"
      ],
      "execution_count": null,
      "outputs": [
        {
          "output_type": "stream",
          "name": "stdout",
          "text": [
            "Trial 4 Complete [00h 00m 01s]\n",
            "mse: 87.27381134033203\n",
            "\n",
            "Best mse So Far: 87.27381134033203\n",
            "Total elapsed time: 00h 00m 06s\n",
            "INFO:tensorflow:Oracle triggered exit\n"
          ]
        }
      ]
    },
    {
      "cell_type": "code",
      "metadata": {
        "id": "gRy9Aaby_dQt",
        "colab": {
          "base_uri": "https://localhost:8080/"
        },
        "outputId": "fc526905-7e76-4c97-d11a-620b68c6117c"
      },
      "source": [
        "# 4.1. Print the summary results of the hyperparameter tuning procedure\n",
        "tuner_rs.results_summary()"
      ],
      "execution_count": null,
      "outputs": [
        {
          "output_type": "stream",
          "name": "stdout",
          "text": [
            "Results summary\n",
            "Results in random_search/untitled_project\n",
            "Showing 10 best trials\n",
            "<keras_tuner.engine.objective.Objective object at 0x7eff76a25990>\n",
            "Trial summary\n",
            "Hyperparameters:\n",
            "learning_rate: 0.01\n",
            "Score: 87.27381134033203\n",
            "Trial summary\n",
            "Hyperparameters:\n",
            "learning_rate: 0.001\n",
            "Score: 92.41769409179688\n",
            "Trial summary\n",
            "Hyperparameters:\n",
            "learning_rate: 0.1\n",
            "Score: 94.67876434326172\n",
            "Trial summary\n",
            "Hyperparameters:\n",
            "learning_rate: 0.0001\n",
            "Score: 5435.8486328125\n"
          ]
        }
      ]
    },
    {
      "cell_type": "code",
      "metadata": {
        "id": "Rq_625b19g6P",
        "colab": {
          "base_uri": "https://localhost:8080/"
        },
        "outputId": "8216fcdb-6104-496f-b794-6e0123397ae2"
      },
      "source": [
        "# 4.2. Print the results of the best model\n",
        "best_model = tuner_rs.get_best_models(num_models=1)[0]\n",
        "best_model.evaluate(X_test, y_test)"
      ],
      "execution_count": null,
      "outputs": [
        {
          "output_type": "stream",
          "name": "stdout",
          "text": [
            "3/3 [==============================] - 0s 3ms/step - loss: 522.5133 - mse: 522.5133\n"
          ]
        },
        {
          "output_type": "execute_result",
          "data": {
            "text/plain": [
              "[522.5133056640625, 522.5133056640625]"
            ]
          },
          "metadata": {},
          "execution_count": 30
        }
      ]
    },
    {
      "cell_type": "code",
      "metadata": {
        "id": "gBxM4hL6r9Vz",
        "colab": {
          "base_uri": "https://localhost:8080/"
        },
        "outputId": "d40f98e6-ec98-488c-8ae5-48a3e5effe99"
      },
      "source": [
        "# 4.3. Print the best model's architecture\n",
        "best_model.summary()"
      ],
      "execution_count": null,
      "outputs": [
        {
          "output_type": "stream",
          "name": "stdout",
          "text": [
            "Model: \"sequential\"\n",
            "_________________________________________________________________\n",
            " Layer (type)                Output Shape              Param #   \n",
            "=================================================================\n",
            " dense (Dense)               (None, 10)                140       \n",
            "                                                                 \n",
            " dense_1 (Dense)             (None, 8)                 88        \n",
            "                                                                 \n",
            " dense_2 (Dense)             (None, 1)                 9         \n",
            "                                                                 \n",
            "=================================================================\n",
            "Total params: 237\n",
            "Trainable params: 237\n",
            "Non-trainable params: 0\n",
            "_________________________________________________________________\n"
          ]
        }
      ]
    },
    {
      "cell_type": "markdown",
      "metadata": {
        "id": "3wYL0qp4fTv-"
      },
      "source": [
        "#### 5. Make a Prediction\n",
        "Making a prediction is the final step in the life-cycle. It is why we wanted the model in the first place.\n",
        "\n",
        "It requires you have new data for which a prediction is required, e.g. where you do not have the target values.\n",
        "\n",
        "\n",
        "\n"
      ]
    },
    {
      "cell_type": "code",
      "metadata": {
        "id": "s-fWHtrMe8U_"
      },
      "source": [
        "# Load new test data\n",
        "new_test_data = pd.read_csv('Testing_set_boston.csv')"
      ],
      "execution_count": null,
      "outputs": []
    },
    {
      "cell_type": "code",
      "metadata": {
        "id": "crRYu0YtiO5G"
      },
      "source": [
        "# make a prediction\n",
        "model.predict(new_test_data)"
      ],
      "execution_count": null,
      "outputs": []
    },
    {
      "cell_type": "markdown",
      "metadata": {
        "id": "c-SLnxZxp02g"
      },
      "source": [
        "#### Resources\n",
        "*  [https://machinelearningmastery.com/tensorflow-tutorial-deep-learning-with-tf-keras/](https://machinelearningmastery.com/tensorflow-tutorial-deep-learning-with-tf-keras/)\n",
        "*  [https://heartbeat.fritz.ai/linear-regression-using-keras-and-python-7cee2819a60c](https://heartbeat.fritz.ai/linear-regression-using-keras-and-python-7cee2819a60c)\n",
        "*  Google Machine Learning Crash Course"
      ]
    }
  ]
}